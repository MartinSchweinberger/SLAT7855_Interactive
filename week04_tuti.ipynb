{
    "cells": [
        {
            "cell_type": "markdown",
            "metadata": {},
            "source": [
                "# Week 04: Getting started with R and RStudio\n",
                "\n",
                "\n",
                "## Introduction\n",
                "\n",
                "This tutorial shows how to get started with R and it specifically focuses on R for analyzing language data but it offers valuable information for anyone who wants to get started with R. As such, this tutorial shows how to properly and tidily set up a project before you start coding and exemplify common operations such as loading and manipulation tabular data and generating basic visualization using R. \n",
                "\n",
                "### Goals of this tutorial\n",
                "\n",
                "The goals of this tutorial are:\n",
                "\n",
                "- How to get started with R \n",
                "- How to orient yourself to R and RStudio\n",
                "- How to create and work in R projects\n",
                "- How to know where to look for help and to learn more about R\n",
                "- Understand the basics of working with data: load data, save data, working with tables, create a simple plot\n",
                "- Learn some best practices for using R scripts, using data, and projects \n",
                "- Understand the basics of objects, functions, and indexing\n",
                "\n",
                "\n",
                "### Preparation\n",
                "\n",
                "Before you actually open R or RStudio, there things to consider that make working in R much easier and give your workflow a better structure. \n",
                "\n",
                "Imagine it like this: when you want to write a book, you could simply take pen and paper and start writing *or* you could think about what you want to write about, what different chapters your book would consist of, which chapters to write first, what these chapters will deal with, etc. The same is true for R: you could simply open R and start writing code *or* you can prepare you session and structure what you will be doing.\n",
                "\n",
                "### Folder Structure and R projects\n",
                "\n",
                "Before actually starting with writing code, you should prepare the session by going through the following steps:\n",
                "\n",
                "#### Create a folder for your project\n",
                "\n",
                "In that folder, create the following sub-folders (you can, of course, adapt this folder template to match your needs)\n",
                "\n",
                "  - data (you do not create this folder for the present workshop as you can simply use the data folder that you downloaded for this workshop instead)\n",
                "  - images\n",
                "  - tables\n",
                "  - docs\n",
                "\n",
                "The folder for your project could look like the the one shown below.\n",
                "\n",
                "![](https://slcladal.github.io/images/RStudio_newfolder.png)\n",
                "   \n",
                "\n",
                "Once you have created your project folder, you can go ahead with RStudio.\n",
                "\n",
                "#### Open RStudio\n",
                "\n",
                "This is what RStudio looks like when you first open it: \n",
                "\n",
                "![](https://slcladal.github.io/images/RStudio_empty.png)\n",
                "\n",
                "In RStudio, click on `File` \n",
                "  \n",
                "![](https://slcladal.github.io/images/RStudio_file.png)\n",
                "\n",
                "You can use the drop-down menu to create a `R project`\n",
                "\n",
                "#### R Projects\n",
                "\n",
                "In RStudio, click on `New Project`\n",
                "  \n",
                "![](https://slcladal.github.io/images/RStudio_newfile.png)\n",
                "  \n",
                "Next, confirm by clicking `OK` and select `Existing Directory`.\n",
                "\n",
                "Then, navigate to where you have just created the project folder for this workshop.\n",
                "  \n",
                "![](https://slcladal.github.io/images/RStudio_existingdirectory.png)\n",
                "  \n",
                "Once you click on `Open`, you have created a new `R project` \n",
                "  \n",
                "#### R Notebooks\n",
                "  \n",
                "In this project, click on `File`\n",
                "  \n",
                "![](https://slcladal.github.io/images/RStudio_file.png)\n",
                "  \n",
                "Click on `New File` and then on `R Notebook` as shown below.\n",
                "\n",
                "![](https://slcladal.github.io/images/RStudio_newnotebook.png) \n",
                "\n",
                "This `R Notebook` will be the file in which you do all your work.\n",
                "\n",
                "\n",
                "\n",
                "#### Getting started with R Notebooks\n",
                "\n",
                "You can now start writing in this R Notebook. For instance, you could start by changing the title of the R Notebook and describe what you are doing (what this Notebook contains).\n",
                "\n",
                "Below is a picture of what this document looked like when I started writing it.\n",
                "\n",
                "![](https://slcladal.github.io/images/RStudio_editMD.png)\n",
                "\n",
                "When you write in the R Notebook, you use what is called `R Markdown` which is explained below.\n",
                "\n",
                "\n",
                "#### R Markdown\n",
                "\n",
                "The Notebook is an [R Markdown document](http://rmarkdown.rstudio.com/): a Rmd (R Markdown) file is more than a flat text document: it's a program that you can run in R and which allows you to combine prose and code, so readers can see the technical aspects of your work while reading about their interpretive significance. \n",
                "\n",
                "You can get a nice and short overview of the formatting options in R Markdown (Rmd) files [here](https://rstudio.com/wp-content/uploads/2015/02/rmarkdown-cheatsheet.pdf).\n",
                "\n",
                "\n",
                "R Markdown allows you to make your research fully transparent and reproducible! If a couple of years down the line another researcher or a journal editor asked you how you have done your analysis, you can simply send them the Notebook or even the entire R-project folder. \n",
                "\n",
                "As such, Rmd files are a type of document that allows to \n",
                "\n",
                "+ include snippets of code (and any outputs such as tables or graphs) in plain text while \n",
                "\n",
                "+ encoding the *structure* of your document by using simple typographical symbols to encode formatting (rather than HTML tags or format types such as *Main header* or *Header level 1* in Word).  \n",
                "\n",
                "Markdown is really quite simple to learn and these resources may help:\n",
                "\n",
                "+ The [Markdown Wikipedia page](https://en.wikipedia.org/wiki/Markdown) includes a very handy chart of the syntax.\n",
                "\n",
                "+ John Gruber developed Markdown and his [introduction to the syntax](https://daringfireball.net/projects/markdown/syntax) is worth browsing.\n",
                "\n",
                "+ This [interactive Markdown tutorial](http://www.markdowntutorial.com/) will teach you the syntax in a few minutes.\n",
                "\n",
                "Here is an overview of the basic syntax of RMarkdown and what the text looks like once it is rendered into a  notebook.\n",
                "\n",
                "![](https://github.com/MartinSchweinberger/SLAT7855/blob/master/images/rmarkdown.png?raw=true)\n",
                "\n",
                "### R and RStudio Basics\n",
                "\n",
                "RStudio is a so-called IDE - Integrated Development Environment. The interface provides easy access to R. The advantage of this application is that R programs and files as well as a project directory can be managed easily. The environment is capable of editing and running program code, viewing outputs and rendering graphics. Furthermore, it is possible to view variables and data objects of an R-script directly in the interface. \n",
                "\n",
                "### RStudio: Panes\n",
                "\n",
                "The GUI - Graphical User Interface - that RStudio provides divides the screen into four areas that are called **panes**:\n",
                "\n",
                "1. File editor\n",
                "2. Environment variables\n",
                "3. R console\n",
                "4. Management panes (File browser, plots, help display and R packages).\n",
                "\n",
                "The two most important are the R console (bottom left) and the File editor (or Script in the top left).\n",
                "The Environment variables and Management panes are on the right of the screen and they contain: \n",
                "\n",
                "* **Environment** (top): Lists all currently defined objects and data sets\n",
                "* **History** (top): Lists all commands recently used or associated with a project\n",
                "* **Plots** (bottom): Graphical output goes here\n",
                "* **Help** (bottom): Find help for R packages and functions.  Don't forget you can type `?` before a function name in the console to get info in the Help section. \n",
                "* **Files** (bottom): Shows the files available to you in your working directory\n",
                "\n",
                "These RStudio panes are shown below.\n",
                "\n",
                "![](https://slcladal.github.io/images/RStudioscreenshot.png)\n",
                "\n",
                "#### R Console (bottom left pane)\n",
                "\n",
                "The console pane allows you to quickly and immediately execute R code. You can experiment with functions here, or quickly print data for viewing. \n",
                "\n",
                "Type next to the `>` and press `Enter` to execute. \n",
                "\n",
                "For example, you can use R like a calculator.  Try typing `2+8` into the **R console** and press `Enter`.\n",
                "\n",
                "Here, the plus sign is the **operator**.  Operators are symbols that represent some sort of action.  However, R is, of course, much more than a simple calculator.  To use R more fully, we need to understand **objects**, **functions**, and **indexing** - which we will learn about as we go.\n",
                "\n",
                "For now, think of *objects as nouns* and *functions as verbs*. \n",
                "\n",
                "#### Running commands from a script\n",
                "\n",
                "To run code from a script, insert your cursor on a line with a command, and press `CTRL/CMD+Enter`.\n",
                "\n",
                "Or highlight some code to only run certain sections of the command, then press `CTRL/CMD+Enter` to run.\n",
                "\n",
                "Alternatively, use the `Run` button at the top of the pane to execute the current line or selection (see below).\n",
                "\n",
                "![](https://slcladal.github.io/images/RStudio_run.png)\n",
                "\n",
                "#### Script Editor (top left pane)\n",
                "\n",
                "In contrast to the R console, which quickly runs code, the Script Editor (in the top left) does not automatically execute code. The Script Editor allows you to save the code essential to your analysis.  You can re-use that code in the moment, refer back to it later, or publish it for replication.  \n",
                "\n",
                "\n",
                "Now, that we have explored RStudio, we are ready to get started with R!\n",
                "\n",
                "### Getting started with R\n",
                "\n",
                "This section introduces some basic concepts and procedures that help optimize your workflow in R. \n",
                "\n",
                "#### Packages\n",
                "\n",
                "When using R, most of the functions are not loaded or even installing automatically. Instead, most functions are in contained in what are called **packages**. \n",
                "\n",
                "R comes with about 30 packages (\"base R\").  There are over 10,000 user-contributed packages; you can discover these packages online.  A prevalent collection of packages is the Tidyverse, which includes ggplot2, a package for making graphics. \n",
                "\n",
                "Before being able to use a package, we need to install the package (using the `install.packages` function) and load the package (using the `library` function). However, a package only needs to be installed once(!) and can then simply be loaded. When you install a package, this will likely install several other packages it depends on.  You should have already installed tidyverse before the workshop. \n",
                "\n",
                "You must load the package in any new R session where you want to use that package.    Below I show what you need to type when you want to install the `tidyverse`, the `tidytext`,  the `quanteda`, the `readxl`, and the `tm` packages (which are the packages that we will need in this workshop).\n"
            ]
        },
        {
            "cell_type": "code",
            "execution_count": null,
            "metadata": {},
            "outputs": [],
            "source": [
                "#install.packages(\"tidyverse\")\n",
                "#install.packages(\"here\")\n",
                "#install.packages(\"flextable\")\n"
            ]
        },
        {
            "cell_type": "markdown",
            "metadata": {},
            "source": [
                "To load these packages, use the `library` function which takes the package name as its main argument.\n",
                "\n"
            ]
        },
        {
            "cell_type": "code",
            "execution_count": null,
            "metadata": {},
            "outputs": [],
            "source": [
                "library(tidyverse)\n",
                "library(here)\n",
                "library(flextable)\n"
            ]
        },
        {
            "cell_type": "markdown",
            "metadata": {},
            "source": [
                "The session preparation section of your Rmd file will thus also state which packages a script relies on.\n",
                "\n",
                "In script editor pane of RStudio, the code blocks that install and activate packages would look like this:\n",
                "\n",
                "![](https://slcladal.github.io/images/RStudio_packages.png)\n",
                "\n",
                "#### Getting help\n",
                "\n",
                "When working with R, you will encounter issues and face challenges. A very good thing about R is that it provides various ways to get help or find information about the issues you face.\n",
                "\n",
                "#### Finding help within R\n",
                "\n",
                "To get help regrading what functions a package contains, which arguments a function takes or to get information about how to use a function, you can use the `help` function or the `apropos`. function or you can simply type a `?` before the package or two `??` if this does not give you any answers. \n"
            ]
        },
        {
            "cell_type": "code",
            "execution_count": null,
            "metadata": {},
            "outputs": [],
            "source": [
                "help(tidyverse) \n",
                "apropos(\"tidyverse\")\n",
                "?require\n"
            ]
        },
        {
            "cell_type": "markdown",
            "metadata": {},
            "source": [
                "There are also other \"official\" help resources from R/RStudio. \n",
                "\n",
                "* Read official package documentation, see vignettes, e.g., Tidyverse <https://cran.r-project.org/package=tidyverse>\n",
                "\n",
                "* Use the RStudio Cheat Sheets at <https://www.rstudio.com/resources/cheatsheets/>\n",
                "\n",
                "* Use the RStudio Help viewer by typing `?` before a function or package\n",
                "\n",
                "* Check out the keyboard shortcuts `Help` under `Tools` in RStudio for some good tips \n",
                "\n",
                "#### Finding help online\n",
                "\n",
                "One great thing about R is that you can very often find an answer to your question online.\n",
                "\n",
                "* Google your error! See <http://r4ds.had.co.nz/introduction.html#getting-help-and-learning-more> for excellent suggestions on how to find help for a specific question online.\n",
                "\n",
                "## Working with Data\n",
                "\n",
                "We can now start actually working with R in RStudio. As this is an introduction, we will only do something very basic, namely loading a data set, inspecting it, and doing some very basic visualizations.\n",
                "\n",
                "### Loading data\n",
                "\n",
                "So let's start by loading a data set. \n"
            ]
        },
        {
            "cell_type": "code",
            "execution_count": null,
            "metadata": {},
            "outputs": [],
            "source": [
                "dat <- read.delim(here::here(\"data/week4data1.txt\"), sep = \"\\t\")\n",
                "# inspect data\n",
                "dat\n"
            ]
        },
        {
            "cell_type": "markdown",
            "metadata": {},
            "source": [
                "### Inspecting data\n",
                "\n"
            ]
        },
        {
            "cell_type": "code",
            "execution_count": null,
            "metadata": {},
            "outputs": [],
            "source": [
                "str(dat)\n",
                "\n"
            ]
        },
        {
            "cell_type": "markdown",
            "metadata": {},
            "source": [
                "\n",
                "\n"
            ]
        },
        {
            "cell_type": "code",
            "execution_count": null,
            "metadata": {},
            "outputs": [],
            "source": [
                "head(dat)\n",
                "\n"
            ]
        },
        {
            "cell_type": "markdown",
            "metadata": {},
            "source": [
                "\n",
                "\n"
            ]
        },
        {
            "cell_type": "code",
            "execution_count": null,
            "metadata": {},
            "outputs": [],
            "source": [
                "View(dat)\n",
                "\n"
            ]
        },
        {
            "cell_type": "markdown",
            "metadata": {},
            "source": [
                "\n",
                "\n"
            ]
        },
        {
            "cell_type": "code",
            "execution_count": null,
            "metadata": {},
            "outputs": [],
            "source": [
                "summary(dat)\n",
                "\n"
            ]
        },
        {
            "cell_type": "markdown",
            "metadata": {},
            "source": "\n"
        },
        {
            "cell_type": "code",
            "execution_count": null,
            "metadata": {},
            "outputs": [],
            "source": [
                "ftable(dat$Class, dat$TestScore)\n",
                "\n"
            ]
        },
        {
            "cell_type": "markdown",
            "metadata": {},
            "source": [
                "### A first plot\n",
                "\n"
            ]
        },
        {
            "cell_type": "code",
            "execution_count": null,
            "metadata": {},
            "outputs": [],
            "source": [
                "plot(dat$TestScore, \n",
                "     col = factor(dat$Class))\n"
            ]
        },
        {
            "cell_type": "markdown",
            "metadata": {},
            "source": [
                "### Changing data\n",
                "\n",
                "We will change the test scores of the students in the Korean class: to all scores in the Korean class, we will add 10 points. \n"
            ]
        },
        {
            "cell_type": "code",
            "execution_count": null,
            "metadata": {},
            "outputs": [],
            "source": [
                "dat %>%\n",
                "  dplyr::mutate(TestScores = ifelse(Class == \"Korean\", TestScores + 10, TestScores)) -> dat2\n"
            ]
        },
        {
            "cell_type": "markdown",
            "metadata": {},
            "source": [
                "Visualize new data set\n",
                "\n"
            ]
        },
        {
            "cell_type": "code",
            "execution_count": null,
            "metadata": {},
            "outputs": [],
            "source": [
                "plot(dat2$TestScores, \n",
                "     col = factor(dat2$Class))\n"
            ]
        },
        {
            "cell_type": "markdown",
            "metadata": {},
            "source": [
                "Now, we will add 20 points to the tests scores of the students in the Chinese class - but only if they have a test score lower than 30!\n",
                "\n"
            ]
        },
        {
            "cell_type": "code",
            "execution_count": null,
            "metadata": {},
            "outputs": [],
            "source": [
                "dat2 %>%\n",
                "  dplyr::mutate(TestScores = ifelse(Class == \"Chinese\" & TestScores <= 30, \n",
                "                                    TestScores + 20, \n",
                "                                    TestScores)) -> dat3\n"
            ]
        },
        {
            "cell_type": "markdown",
            "metadata": {},
            "source": [
                "Visualize new data set\n",
                "\n"
            ]
        },
        {
            "cell_type": "code",
            "execution_count": null,
            "metadata": {},
            "outputs": [],
            "source": [
                "plot(dat3$TestScores, \n",
                "     col = factor(dat3$Class))\n"
            ]
        },
        {
            "cell_type": "markdown",
            "metadata": {},
            "source": [
                "### Saving data\n",
                "\n"
            ]
        },
        {
            "cell_type": "code",
            "execution_count": null,
            "metadata": {},
            "outputs": [],
            "source": [
                "write.table(dat, here::here(\"data\", \"dat3.txt\"))\n",
                "\n"
            ]
        },
        {
            "cell_type": "markdown",
            "metadata": {},
            "source": [
                "[Back to top](#getting_started_with_r_and_rstudio_1)\n",
                "\n"
            ]
        }
    ],
    "metadata": {
        "anaconda-cloud": "",
        "kernelspec": {
            "display_name": "R",
            "langauge": "R",
            "name": "ir"
        },
        "language_info": {
            "codemirror_mode": "r",
            "file_extension": ".r",
            "mimetype": "text/x-r-source",
            "name": "R",
            "pygments_lexer": "r",
            "version": "3.4.1"
        }
    },
    "nbformat": 4,
    "nbformat_minor": 1
}
