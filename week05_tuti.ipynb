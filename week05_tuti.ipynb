{
    "cells": [
        {
            "cell_type": "markdown",
            "metadata": {},
            "source": [
                "# Week 05: Working with Tables in R and RStudio\n",
                "\n",
                "## Working with tables\n",
                "\n",
                "This week, we will continue to explore R and RStudio.\n"
            ]
        },
        {
            "cell_type": "code",
            "execution_count": null,
            "metadata": {},
            "outputs": [],
            "source": [
                "library(tidyverse)\n",
                "w5dat <- read.delim(here::here(\"data\", \"week5data1.txt\"), sep = \"\\t\", header = T)\n",
                "# inspect\n",
                "head(w5dat)\n"
            ]
        },
        {
            "cell_type": "markdown",
            "metadata": {},
            "source": [
                "We will now start working with data in R. As most of the data that we work with comes in tables.\n",
                "\n",
                "We will download a tab-separated txt-file. Translated to prose, the code below means *Create an object called *w5dat *and in that object, store the result of the `read.delim` function*. \n",
                "\n",
                "`read.delim` stands for *read delimited file* and it takes the URL from which to load the data (or the path to the data on your computer) as its first argument. The `sep` stand for separator and the `\\t` stands for tab-separated and represents the second argument that the `read.delim` function takes. The third argument, `header`, can take either T(RUE) or F(ALSE) and it tells R if the data has column names (headers) or not. \n",
                "\n",
                "### Functions and Objects\n",
                "\n",
                "In R, functions always have the following form: `function(argument1, argument2, ..., argumentN)`. Typically a function does something to an object (e.g. a table), so that the first argument typically specifies the data to which the function is applied. Other arguments then allow to add some information. Just as a side note, functions are also objects that do not contain data but instructions.\n",
                "\n",
                "To assign content to an object, we use `<-` or `=` so that the we provide a name for an object, and then assign some content to it. For example, `MyObject <- 1:3` means *Create an object called `MyObject`. this object should contain the numbers 1 to 3*.\n"
            ]
        },
        {
            "cell_type": "code",
            "execution_count": null,
            "metadata": {},
            "outputs": [],
            "source": [
                "MyObject <- 1:3\n",
                "# inspect\n",
                "MyObject\n"
            ]
        },
        {
            "cell_type": "markdown",
            "metadata": {},
            "source": [
                "### Inspecting data\n",
                "\n",
                "There are many ways to inspect data. We will briefly go over the most common ways to inspect data.\n",
                "\n",
                "The `head` function takes the data-object as its first argument and automatically shows the first 6 elements of an object (or rows if the data-object has a table format).\n"
            ]
        },
        {
            "cell_type": "code",
            "execution_count": null,
            "metadata": {},
            "outputs": [],
            "source": [
                "head(w5dat)\n",
                "\n"
            ]
        },
        {
            "cell_type": "markdown",
            "metadata": {},
            "source": [
                "We can also use the `head` function to inspect more or less elements and we can specify the number of elements (or rows) that we want to inspect as a second argument. In the example below, the `4` tells R that we only want to see the first 4 rows of the data.\n",
                "\n"
            ]
        },
        {
            "cell_type": "code",
            "execution_count": null,
            "metadata": {},
            "outputs": [],
            "source": [
                "head(w5dat, 4)\n",
                "\n"
            ]
        },
        {
            "cell_type": "markdown",
            "metadata": {},
            "source": [
                "### Accessing individual cells in a table\n",
                "\n",
                "If you want to access specific cells in a table, you can do so by typing the name of the object and then specify the rows and columns in square brackets (i.e. **data[row, column]**). For example, `w5dat[2, 4]` would show the value of the cell in the second row and fourth column of the object `w5dat`. We can also use the colon to define a range (as shown below, where 1:5 means from 1 to 5 and 1:3 means from 1 to 3) The command `w5dat[1:5, 1:3]` thus means:\n",
                "\n",
                "*Show me the first 5 rows and the first 3 columns of the data-object that is called w5dat*. \n",
                " \n"
            ]
        },
        {
            "cell_type": "code",
            "execution_count": null,
            "metadata": {},
            "outputs": [],
            "source": [
                "w5dat[1:5, 3:5]\n",
                "\n"
            ]
        },
        {
            "cell_type": "markdown",
            "metadata": {},
            "source": [
                "**Inspecting the structure of data**\n",
                "\n",
                "You can use the `str` function to inspect the structure of a data set. This means that this function will show the number of observations (rows) and variables (columns) and tell you what type of variables the data consists of \n",
                "\n",
                "- **int** = integer\n",
                "- **chr** = character string\n",
                "- **num** = numeric\n",
                "- **fct** = factor\n"
            ]
        },
        {
            "cell_type": "code",
            "execution_count": null,
            "metadata": {},
            "outputs": [],
            "source": [
                "str(w5dat)\n",
                "\n"
            ]
        },
        {
            "cell_type": "markdown",
            "metadata": {},
            "source": [
                "The `summary` function summarizes the data.\n",
                "\n"
            ]
        },
        {
            "cell_type": "code",
            "execution_count": null,
            "metadata": {},
            "outputs": [],
            "source": [
                "summary(w5dat)\n",
                "\n"
            ]
        },
        {
            "cell_type": "markdown",
            "metadata": {},
            "source": [
                "### Tabulating data\n",
                "\n",
                "We can use the `table` function to create basic tables that extract raw frequency information. The following command tells us how many instances there are of each level of the variable `date` in the `w5dat`. \n"
            ]
        },
        {
            "cell_type": "code",
            "execution_count": null,
            "metadata": {},
            "outputs": [],
            "source": [
                "table(w5dat$date) \n",
                "\n"
            ]
        },
        {
            "cell_type": "markdown",
            "metadata": {},
            "source": [
                "Alternatively, you could, of course, index the column by using its position in the data set like this: `w5dat[, 6]` - the result of `table(w5dat[, 6])` and `table(w5dat$date)` are the same! Also note that here we leave out indexes for rows to tell R that we want all rows.\n",
                "\n",
                "When you want to cross-tabulate columns, it is often better to use the `ftable` function (`ftable` stands for *frequency table*). \n"
            ]
        },
        {
            "cell_type": "code",
            "execution_count": null,
            "metadata": {},
            "outputs": [],
            "source": [
                "ftable(w5dat$age, w5dat$sex)\n",
                "\n"
            ]
        },
        {
            "cell_type": "markdown",
            "metadata": {},
            "source": [
                "### Saving data to your computer\n",
                "\n",
                "To save tabular data on your computer, you can use the `write.table`  function. This function requires the data that you want to save as its first argument, the location where you want to save the data as the second argument and the type of delimiter as the third argument. \n"
            ]
        },
        {
            "cell_type": "code",
            "execution_count": null,
            "metadata": {},
            "outputs": [],
            "source": [
                "write.table(w5dat, here::here(\"data\", \"w5dat.txt\"), sep = \"\\t\") \n",
                "\n"
            ]
        },
        {
            "cell_type": "markdown",
            "metadata": {},
            "source": [
                "**A word about paths**\n",
                "\n",
                "In the code chunk above, the sequence `here::here(\"data\", \"w5dat.txt\")` is a handy way to define a path. A path is simply the location where a file is stored on your computer or on the internet (which typically is a server - which is just a fancy term for a computer - somewhere on the globe). The `here` function from the`here` package allows to simply state in which folder a certain file is and what file you are talking about. \n",
                "\n",
                "In this case, we want to access the file `w5dat` (which is a `txt` file and thus has the appendix `.txt`) in the `data` folder. R will always start looking in the folder in which your project is stored. If you want to access a file that is stored somewhere else on your computer, you can also define the full path to the folder in which the file is. In my case, this would be `D:/Uni/UQ/SLC/LADAL/SLCLADAL.github.io/data`. However, as the `data` folder in in the folder where my Rproj file is, I only need to specify that the file is in the `data` folder within the folder in which my Rproj file is located.\n",
                "\n",
                "**A word about package naming**\n",
                "\n",
                "Another thing that is notable in the sequence `here::here(\"data\", \"w5dat.txt\")` is that I specified that the `here` function is part of the `here` package. This is what I meant by writing `here::here` which simply means use the `here` function from `here` package (`package::function`). This may appear to be somewhat redundant but it happens quite frequently, that different packages have functions that have the same names. In such cases, R will simply choose the function from the package that was loaded last. To prevent R from using the wrong function, it makes sense to specify the package AND the function (as I did in the sequence `here::here`). I only use functions without specify the package if the function is part of base R.\n",
                "\n",
                "### Loading data from your computer\n",
                "\n",
                " To load tabular data from within your project folder (if it is in a tab-separated txt-file) you can also use the `read.delim` function. The only difference to loading from the web is that you use a path instead of a URL. If the txt-file is in the folder called *data* in your project folder, you would load the data as shown below. \n"
            ]
        },
        {
            "cell_type": "code",
            "execution_count": null,
            "metadata": {},
            "outputs": [],
            "source": [
                "w5dat <- read.delim(here::here(\"data\", \"week5data1.txt\"), sep = \"\\t\", header = T)\n",
                "\n"
            ]
        },
        {
            "cell_type": "markdown",
            "metadata": {},
            "source": [
                "To if this has worked, we will use the `head` function to see first 6 rows of the data\n",
                "\n"
            ]
        },
        {
            "cell_type": "code",
            "execution_count": null,
            "metadata": {},
            "outputs": [],
            "source": [
                "head(w5dat)\n",
                "\n"
            ]
        },
        {
            "cell_type": "markdown",
            "metadata": {},
            "source": [
                "### Loading Excel data\n",
                "\n",
                "To load Excel spreadsheets, you can use the `read_excel` function from the `readxl` package as shown below. However, it may be necessary to install and activate the `readxl` package first. \n"
            ]
        },
        {
            "cell_type": "code",
            "execution_count": null,
            "metadata": {},
            "outputs": [],
            "source": [
                "test <- readxl::read_excel(here::here(\"data\", \"week5data2.xlsx\"))\n",
                "# inspect\n",
                "head(test)\n"
            ]
        },
        {
            "cell_type": "markdown",
            "metadata": {},
            "source": [
                "We now briefly check column names to see if the loading of the data has worked.\n",
                "\n"
            ]
        },
        {
            "cell_type": "code",
            "execution_count": null,
            "metadata": {},
            "outputs": [],
            "source": [
                "colnames(w5dat)\n",
                "\n"
            ]
        },
        {
            "cell_type": "markdown",
            "metadata": {},
            "source": [
                "### Renaming, Piping, and Filtering \n",
                "\n",
                "To rename existing columns in a table, you can use the `rename` command which takes the table as the first argument, the new name as the second argument, the an equal sign (=), and finally, the old name es the third argument. For example, renaming a column *OldName* as *NewName* in a table called *MyTable* would look like this: `rename(MyTable, NewName = OldName)`.  \n",
                "\n",
                "Piping is done using the `%>%` sequence and it can be translated as **and then**. In the example below, we create a new object (w5dat_edit) from the existing object (w5dat) *and then* we rename the columns in the new object. When we use piping, we do not need to name the data we are using as this is provided by the previous step.\n"
            ]
        },
        {
            "cell_type": "code",
            "execution_count": null,
            "metadata": {},
            "outputs": [],
            "source": [
                "w5dat %>%\n",
                "  dplyr::rename(Id = id,\n",
                "                FileSpeakerId = file.speaker.id,\n",
                "                File = colnames(w5dat)[3],\n",
                "                Speaker = colnames(w5dat)[4]) -> w5dat_edit\n",
                "# inspect data\n",
                "w5dat_edit[1:5, 1:6]\n"
            ]
        },
        {
            "cell_type": "markdown",
            "metadata": {},
            "source": [
                "A very handy way to rename many columns simultaneously, you can use the `str_to_title` function which capitalizes first letter of a word. In the example below, we capitalize all first letters of the column names of our current data.\n",
                "\n"
            ]
        },
        {
            "cell_type": "code",
            "execution_count": null,
            "metadata": {},
            "outputs": [],
            "source": [
                "colnames(w5dat_edit) <- stringr::str_to_title(colnames(w5dat_edit))\n",
                "# inspect data\n",
                "w5dat_edit[1:5, 1:6]\n"
            ]
        },
        {
            "cell_type": "markdown",
            "metadata": {},
            "source": [
                "To remove rows based on values in columns you can use the `filter` function.\n",
                "\n"
            ]
        },
        {
            "cell_type": "code",
            "execution_count": null,
            "metadata": {},
            "outputs": [],
            "source": [
                "w5dat_edit2 <- w5dat_edit %>%\n",
                "  dplyr::filter(Speaker != \"?\",\n",
                "                Zone != is.na(Zone),\n",
                "                Date == \"2002-2005\",\n",
                "                Word.count > 5)\n",
                "# inspect data\n",
                "head(w5dat_edit2)\n"
            ]
        },
        {
            "cell_type": "markdown",
            "metadata": {},
            "source": [
                "To select specific columns you can use the `select` function.\n",
                "\n"
            ]
        },
        {
            "cell_type": "code",
            "execution_count": null,
            "metadata": {},
            "outputs": [],
            "source": [
                "w5dat_selection <- w5dat_edit2 %>%\n",
                "  dplyr::select(File, Speaker, Word.count)\n",
                "# inspect data\n",
                "head(w5dat_selection)\n"
            ]
        },
        {
            "cell_type": "markdown",
            "metadata": {},
            "source": [
                "You can also use the `select` function to remove specific columns.\n",
                "\n"
            ]
        },
        {
            "cell_type": "code",
            "execution_count": null,
            "metadata": {},
            "outputs": [],
            "source": [
                "w5dat_selection2 <- w5dat_edit2 %>%\n",
                "  dplyr::select(-Id, -File, -Speaker, -Date, -Zone, -Age)\n",
                "# inspect data\n",
                "head(w5dat_selection2)\n"
            ]
        },
        {
            "cell_type": "markdown",
            "metadata": {},
            "source": [
                "### Ordering data\n",
                "\n",
                "To order data, for instance, in ascending order according to a specific column you can use the `arrange` function.\n"
            ]
        },
        {
            "cell_type": "code",
            "execution_count": null,
            "metadata": {},
            "outputs": [],
            "source": [
                "w5dat_ordered_asc <- w5dat_selection2 %>%\n",
                "  dplyr::arrange(Word.count)\n",
                "# inspect data\n",
                "head(w5dat_ordered_asc)\n"
            ]
        },
        {
            "cell_type": "markdown",
            "metadata": {},
            "source": [
                "To order data in descending order you can also use the `arrange` function and simply add a - before the column according to which you want to order the data.\n",
                "\n"
            ]
        },
        {
            "cell_type": "code",
            "execution_count": null,
            "metadata": {},
            "outputs": [],
            "source": [
                "w5dat_ordered_desc <- w5dat_selection2 %>%\n",
                "  dplyr::arrange(-Word.count)\n",
                "# inspect data\n",
                "head(w5dat_ordered_desc)\n"
            ]
        },
        {
            "cell_type": "markdown",
            "metadata": {},
            "source": [
                "The output shows that the female speaker in file S2A-005 with the speaker identity A has the highest word count with 2,355 words. \n",
                "\n",
                "\n",
                "### Creating and changing variables\n",
                "\n",
                "New columns are created, and existing columns can be changed, by using the `mutate` function. The `mutate` function takes two arguments (if the data does not have to be specified): the first argument is the (new) name of column that you want to create and the second is what you want to store in that column. The = tells R that the new column will contain the result of the second argument.\n",
                "\n",
                "In the example below, we create a new column called *Texttype*. \n",
                "\n",
                "This new column should contain \n",
                "\n",
                "  + the value *PrivateDialoge* if *Filespeakerid* contains the sequence *S1A*, \n",
                "  \n",
                "  + the value *PublicDialogue* if *Filespeakerid* contains the sequence *S1B*, \n",
                "  \n",
                "  + the value *UnscriptedMonologue* if *Filespeakerid* contains the sequence *S2A*, \n",
                "  \n",
                "  + the value *ScriptedMonologue* if *Filespeakerid* contains the sequence *S2B*, \n",
                "  \n",
                "  + the value of *Filespeakerid* if *Filespeakerid* neither contains *S1A*, *S1B*, *S2A*, nor *S2B*.\n"
            ]
        },
        {
            "cell_type": "code",
            "execution_count": null,
            "metadata": {},
            "outputs": [],
            "source": [
                "w5dat_texttype <- w5dat_selection2 %>%\n",
                "  dplyr::mutate(Texttype = \n",
                "                  dplyr::case_when(stringr::str_detect(Filespeakerid ,\"S1A\") ~ \"PrivateDialoge\",\n",
                "                                   stringr::str_detect(Filespeakerid ,\"S1B\") ~ \"PublicDialogue\",\n",
                "                                   stringr::str_detect(Filespeakerid ,\"S2A\") ~ \"UnscriptedMonologue\",\n",
                "                                   stringr::str_detect(Filespeakerid ,\"S2B\") ~ \"ScriptedMonologue\",\n",
                "                                   TRUE ~ Filespeakerid))\n",
                "# inspect data\n",
                "head(w5dat_texttype)\n"
            ]
        },
        {
            "cell_type": "markdown",
            "metadata": {},
            "source": [
                "### If-statements\n",
                "\n",
                "We should briefly talk about if-statements (or `case_when` in the present case). The `case_when` function is both very powerful and extremely helpful as it allows you to assign values based on a test. As such, `case_when`-statements can be read as:\n",
                "\n",
                "*When/If X is the case, then do A and if X is not the case do B!* (When/If -> Then -> Else)\n",
                "\n",
                "The nice thing about `ifelse` or `case_when`-statements is that they can be used in succession as we have done above. This can then be read as:\n",
                "\n",
                "*If X is the case, then do A, if Y is the case, then do B, else do Z* \n",
                "\n",
                "\n",
                "### Summarizing data\n",
                "\n",
                "Summarizing is really helpful and can be done using the `summarise` function.\n"
            ]
        },
        {
            "cell_type": "code",
            "execution_count": null,
            "metadata": {},
            "outputs": [],
            "source": [
                "w5dat_summary1 <- w5dat_texttype %>%\n",
                "  dplyr::summarise(Words = sum(Word.count))\n",
                "# inspect data\n",
                "head(w5dat_summary1)\n"
            ]
        },
        {
            "cell_type": "markdown",
            "metadata": {},
            "source": [
                "To get summaries of sub-groups or by variable level, we can use the `group_by` function and then use the `summarise` function.\n",
                "\n"
            ]
        },
        {
            "cell_type": "code",
            "execution_count": null,
            "metadata": {},
            "outputs": [],
            "source": [
                "w5dat_summary2 <- w5dat_texttype %>%\n",
                "  dplyr::group_by(Texttype, Sex) %>%\n",
                "  dplyr::summarise(Speakers = n(),\n",
                "            Words = sum(Word.count))\n",
                "# inspect data\n",
                "head(w5dat_summary2)\n"
            ]
        },
        {
            "cell_type": "markdown",
            "metadata": {},
            "source": [
                "### Gathering and spreading data\n",
                "\n",
                "The `tidyr` package has two very useful functions for gathering and spreading data that can be sued to transform data to long and wide formats (you will see what this means below). The functions are called `gather` and `spread`.\n",
                "\n",
                "We will use the data set called `w5dat_summary2`, which we created above, to demonstrate how this works.\n",
                "\n",
                "We will first check out the `spread`-function to create different columns for women and men that show how many of them are represented in the different text types. \n"
            ]
        },
        {
            "cell_type": "code",
            "execution_count": null,
            "metadata": {},
            "outputs": [],
            "source": [
                "w5dat_summary_wide <- w5dat_summary2 %>%\n",
                "  dplyr::select(-Words) %>%\n",
                "  tidyr::spread(Sex, Speakers)\n",
                "# inspect\n",
                "w5dat_summary_wide\n"
            ]
        },
        {
            "cell_type": "markdown",
            "metadata": {},
            "source": [
                "The data is now in what is called a `wide`-format as values are distributed across columns.\n",
                "\n",
                "To reformat this back to a `long`-format where each column represents exactly one variable, we use the `gather`-function:\n"
            ]
        },
        {
            "cell_type": "code",
            "execution_count": null,
            "metadata": {},
            "outputs": [],
            "source": [
                "w5dat_summary_long <- w5dat_summary_wide %>%\n",
                "  tidyr::gather(Sex, Speakers, female:male)\n",
                "# inspect\n",
                "w5dat_summary_long\n"
            ]
        },
        {
            "cell_type": "markdown",
            "metadata": {},
            "source": [
                "### Ending R sessions\n",
                "\n",
                "At the end of each session, you can extract information about the session itself (e.g. which R version you used and which versions of packages). This can help others (or even your future self) to reproduce the analysis that you have done.\n",
                "\n",
                "### Extracting session information\n",
                "\n",
                "You can extract the session information by running the `sessionInfo` function (without any arguments)\n"
            ]
        },
        {
            "cell_type": "code",
            "execution_count": null,
            "metadata": {},
            "outputs": [],
            "source": [
                "sessionInfo()\n",
                "\n"
            ]
        },
        {
            "cell_type": "markdown",
            "metadata": {},
            "source": [
                "### Going further\n",
                "\n",
                "If you want to know more, would like to get some more practice, or would like to have another approach to R, please check out the workshops and resources on R provided by the [UQ library](https://web.library.uq.edu.au/library-services/training). In addition, there are various online resources available to learn R (you can check out a very recommendable introduction [here](https://uvastatlab.github.io/phdplus/intror.html)). \n",
                "\n",
                "Here are also some additional resources that you may find helpful:\n",
                "\n",
                "* Grolemund. G., and Wickham, H., [*R 4 Data Science*](http://r4ds.had.co.nz/), 2017.\n",
                "    + Highly recommended! (especially chapters 1, 2, 4, 6, and 8)\n",
                "* Stat545 - Data wrangling, exploration, and analysis with R. University of British Columbia.  <http://stat545.com/>\n",
                "* Swirlstats, a package that teaches you R and statistics within R: <https://swirlstats.com/>\n",
                "* DataCamp's (free) *Intro to R* interactive tutorial: <https://www.datacamp.com/courses/free-introduction-to-r>\n",
                "    + DataCamp's advanced R tutorials require a subscription.\n",
                "*Twitter: \n",
                "    + Explore RStudio Tips https://twitter.com/rstudiotips \n",
                "    + Explore #rstats, #rstudioconf\n",
                "\n",
                "\n",
                "\n",
                "[Back to top](#working_with_tables)\n"
            ]
        }
    ],
    "metadata": {
        "anaconda-cloud": "",
        "kernelspec": {
            "display_name": "R",
            "langauge": "R",
            "name": "ir"
        },
        "language_info": {
            "codemirror_mode": "r",
            "file_extension": ".r",
            "mimetype": "text/x-r-source",
            "name": "R",
            "pygments_lexer": "r",
            "version": "3.4.1"
        }
    },
    "nbformat": 4,
    "nbformat_minor": 1
}
