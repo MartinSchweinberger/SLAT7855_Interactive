{
    "cells": [
        {
            "cell_type": "markdown",
            "metadata": {},
            "source": [
                "# Introduction {-}\n",
                "\n",
                "In this tutorial, we will learn to how to perform multiple linear regression.\n",
                "\n",
                "**Preparation and session set up**\n",
                "\n",
                "Before turning to the code below, please install the packages by running the code below this paragraph. If you have already installed the packages mentioned below, then you can skip ahead and ignore this section. To install the necessary packages, simply run the following code - it may take some time (between 1 and 5 minutes to install all of the libraries so you do not need to worry if it takes some time).\n"
            ]
        },
        {
            "cell_type": "code",
            "execution_count": null,
            "metadata": {},
            "outputs": [],
            "source": [
                "# install packages\n",
                "install.packages(\"here\")\n",
                "install.packages(\"dplyr\")\n",
                "install.packages(\"ggplot2\")\n",
                "install.packages(\"glmulti\")\n",
                "install.packages(\"car\")\n",
                "install.packages(\"rms\")\n",
                "install.packages(\"sjPlot\")\n",
                "install.packages(\"report\")\n",
                "install.packages(\"ggcorrplot\")\n"
            ]
        },
        {
            "cell_type": "markdown",
            "metadata": {},
            "source": [
                "Now that we have installed the packages, we activate them as shown below.\n",
                "\n"
            ]
        },
        {
            "cell_type": "code",
            "execution_count": null,
            "metadata": {},
            "outputs": [],
            "source": [
                "# activate packages\n",
                "library(here)\n",
                "library(dplyr)\n",
                "library(ggplot2)\n",
                "library(glmulti)\n",
                "library(car)\n",
                "library(rms)\n",
                "library(sjPlot)\n",
                "library(report)\n",
                "library(ggcorrplot)\n"
            ]
        },
        {
            "cell_type": "markdown",
            "metadata": {},
            "source": [
                "#  Tutorial Activity {-}\n",
                "\n",
                "Go into groups - each group and help each other to bring the data into the correct format, visualize the data and perform the multiple regression.\n",
                "\n",
                "# Task 1\n",
                "\n",
                "Multiple linear regression is a better alternative for ANOVAs (because, in addition to categorical indep. variables, it can handle all types of indep. variables).\n",
                "\n",
                "We go back to the data sets we have analyzed in week 6. Here, the RQ is if the courses differ in how satisfied students were with the courses and if their SeCATs are affected by the grade they got. Satisfaction is operationalized as secat scores, the *grade* a student received is categorized as high, medium, and low, and the course a student attended is provided in the *class* column.\n",
                "\n",
                "Load the data set `week6g1.xlsx`. Visualize the data and perform a full regression analysis. \n"
            ]
        },
        {
            "cell_type": "code",
            "execution_count": null,
            "metadata": {},
            "outputs": [],
            "source": [
                "dat1 <- readxl::read_excel(here::here(\"data\", \"week6g1.xlsx\"))\n",
                "# inspect\n",
                "head(dat1)\n"
            ]
        },
        {
            "cell_type": "markdown",
            "metadata": {},
            "source": [
                "Visualize data\n",
                "\n"
            ]
        },
        {
            "cell_type": "code",
            "execution_count": null,
            "metadata": {},
            "outputs": [],
            "source": [
                "dat1  %>%\n",
                "  dplyr::mutate_if(is.character, factor) %>%\n",
                "  ggplot(aes(class, secat, fill = class)) +\n",
                "  geom_boxplot() +\n",
                "  facet_grid(~grade)\n"
            ]
        },
        {
            "cell_type": "markdown",
            "metadata": {},
            "source": [
                "Fitting a model\n",
                "\n"
            ]
        },
        {
            "cell_type": "code",
            "execution_count": null,
            "metadata": {},
            "outputs": [],
            "source": [
                "m1 <- lm(secat ~ class * grade, data = dat1)\n",
                "# inspect results\n",
                "summary(m1)\n"
            ]
        },
        {
            "cell_type": "markdown",
            "metadata": {},
            "source": [
                "Model fitting\n",
                "\n"
            ]
        },
        {
            "cell_type": "code",
            "execution_count": null,
            "metadata": {},
            "outputs": [],
            "source": [
                "mfit <- glmulti(secat ~ class * grade, data = dat1, crit = aic)\n",
                "# isnepct results\n",
                "summary(mfit)\n"
            ]
        },
        {
            "cell_type": "markdown",
            "metadata": {},
            "source": [
                "Define final minimal adequate model\n",
                "\n"
            ]
        },
        {
            "cell_type": "code",
            "execution_count": null,
            "metadata": {},
            "outputs": [],
            "source": [
                "m1 <- lm(secat ~ class + grade, data = dat1)\n",
                "# inspect results\n",
                "summary(m1)\n"
            ]
        },
        {
            "cell_type": "markdown",
            "metadata": {},
            "source": [
                "Diagnostics: outliers?\n",
                "\n"
            ]
        },
        {
            "cell_type": "code",
            "execution_count": null,
            "metadata": {},
            "outputs": [],
            "source": [
                "plot(m1)\n",
                "\n"
            ]
        },
        {
            "cell_type": "markdown",
            "metadata": {},
            "source": [
                "Check multicollinearity\n",
                "\n"
            ]
        },
        {
            "cell_type": "code",
            "execution_count": null,
            "metadata": {},
            "outputs": [],
            "source": [
                "rms::vif(m1)\n",
                "\n"
            ]
        },
        {
            "cell_type": "markdown",
            "metadata": {},
            "source": [
                "Effects\n",
                "\n"
            ]
        },
        {
            "cell_type": "code",
            "execution_count": null,
            "metadata": {},
            "outputs": [],
            "source": [
                "sjPlot::plot_model(m1, type = \"pred\", terms = c(\"grade\", \"class\"))\n",
                "\n"
            ]
        },
        {
            "cell_type": "markdown",
            "metadata": {},
            "source": [
                "Summarize\n",
                "\n"
            ]
        },
        {
            "cell_type": "code",
            "execution_count": null,
            "metadata": {},
            "outputs": [],
            "source": [
                "sjPlot::tab_model(m1)\n",
                "\n"
            ]
        },
        {
            "cell_type": "markdown",
            "metadata": {},
            "source": [
                "Report\n",
                "\n"
            ]
        },
        {
            "cell_type": "code",
            "execution_count": null,
            "metadata": {},
            "outputs": [],
            "source": [
                "report::report(m1)\n",
                "\n"
            ]
        },
        {
            "cell_type": "markdown",
            "metadata": {},
            "source": [
                "# Task 2\n",
                "\n",
                "We are now having a look at a new data set. This data represents  a study where language learners were asked to press a button if a word shown on a computer screen was a real word (like *dough* or *missed*). In addition, the learners completed an IQ test and a language proficiency test as well as stated how many hours they slept before doing the experiment. \n",
                "\n",
                "RQ: What factors impact the reaction time with which learners identify a real word in a foreign language.\n",
                "\n",
                "H1: All predictors impact the reaction time.\n",
                "\n",
                "Load the data set `week10d2.xlsx`. Visualize the data and perform a full regression analysis. \n"
            ]
        },
        {
            "cell_type": "code",
            "execution_count": null,
            "metadata": {},
            "outputs": [],
            "source": [
                "dat2 <- readxl::read_excel(here::here(\"data\", \"week10d2.xlsx\"))\n",
                "# inspect\n",
                "head(dat2)\n"
            ]
        },
        {
            "cell_type": "markdown",
            "metadata": {},
            "source": [
                "Visualize data\n",
                "\n"
            ]
        },
        {
            "cell_type": "code",
            "execution_count": null,
            "metadata": {},
            "outputs": [],
            "source": [
                "corr <- round(cor(dat2), 1)\n",
                "ggcorrplot(corr)\n"
            ]
        },
        {
            "cell_type": "markdown",
            "metadata": {},
            "source": [
                "\n",
                "\n"
            ]
        },
        {
            "cell_type": "code",
            "execution_count": null,
            "metadata": {},
            "outputs": [],
            "source": [
                "dat2 %>%\n",
                "  ggplot(aes(Proficiency, ReactionTime, color = IQ)) +\n",
                "  geom_point()\n",
                "  \n"
            ]
        },
        {
            "cell_type": "markdown",
            "metadata": {},
            "source": [
                "Fitting a model\n",
                "\n"
            ]
        },
        {
            "cell_type": "code",
            "execution_count": null,
            "metadata": {},
            "outputs": [],
            "source": [
                "m2 <- lm(ReactionTime ~ Proficiency * IQ * Sleep, data = dat2)\n",
                "# inspect results\n",
                "summary(m2)\n"
            ]
        },
        {
            "cell_type": "markdown",
            "metadata": {},
            "source": [
                "Model fitting\n",
                "\n"
            ]
        },
        {
            "cell_type": "code",
            "execution_count": null,
            "metadata": {},
            "outputs": [],
            "source": [
                "mfit <- glmulti(ReactionTime ~ Proficiency * IQ * Sleep, data = dat2, crit = bic)\n",
                "# extract best models\n",
                "top <- weightable(mfit)\n",
                "top <- top[1:5,]\n",
                "# inspect top 5 models\n",
                "top\n"
            ]
        },
        {
            "cell_type": "markdown",
            "metadata": {},
            "source": [
                "Define final minimal adequate model\n",
                "\n"
            ]
        },
        {
            "cell_type": "code",
            "execution_count": null,
            "metadata": {},
            "outputs": [],
            "source": [
                "m2 <- lm(ReactionTime ~ Proficiency + IQ + Sleep, \n",
                "         data = dat2)\n",
                "# inspect results\n",
                "summary(m2)\n"
            ]
        },
        {
            "cell_type": "markdown",
            "metadata": {},
            "source": [
                "Diagnostics: outliers?\n",
                "\n"
            ]
        },
        {
            "cell_type": "code",
            "execution_count": null,
            "metadata": {},
            "outputs": [],
            "source": [
                "plot(m2)\n",
                "\n"
            ]
        },
        {
            "cell_type": "markdown",
            "metadata": {},
            "source": [
                "Check multicollinearity\n",
                "\n"
            ]
        },
        {
            "cell_type": "code",
            "execution_count": null,
            "metadata": {},
            "outputs": [],
            "source": [
                "car::vif(m2)\n",
                "\n"
            ]
        },
        {
            "cell_type": "markdown",
            "metadata": {},
            "source": [
                "Effects\n",
                "\n"
            ]
        },
        {
            "cell_type": "code",
            "execution_count": null,
            "metadata": {},
            "outputs": [],
            "source": [
                "sjPlot::plot_model(m2, type = \"pred\", terms = c(\"Proficiency\", \"IQ\"))\n",
                "\n"
            ]
        },
        {
            "cell_type": "markdown",
            "metadata": {},
            "source": [
                "Summarize\n",
                "\n"
            ]
        },
        {
            "cell_type": "code",
            "execution_count": null,
            "metadata": {},
            "outputs": [],
            "source": [
                "sjPlot::tab_model(m2)\n",
                "\n"
            ]
        },
        {
            "cell_type": "markdown",
            "metadata": {},
            "source": [
                "Report\n",
                "\n"
            ]
        },
        {
            "cell_type": "code",
            "execution_count": null,
            "metadata": {},
            "outputs": [],
            "source": [
                "report::report(m2)\n",
                "\n"
            ]
        },
        {
            "cell_type": "markdown",
            "metadata": {},
            "source": [
                "# Outro\n",
                "\n"
            ]
        },
        {
            "cell_type": "code",
            "execution_count": null,
            "metadata": {},
            "outputs": [],
            "source": [
                "sessionInfo()\n",
                "\n"
            ]
        },
        {
            "cell_type": "markdown",
            "metadata": {},
            "source": [
                "\n",
                "\n"
            ]
        }
    ],
    "metadata": {
        "anaconda-cloud": "",
        "kernelspec": {
            "display_name": "R",
            "langauge": "R",
            "name": "ir"
        },
        "language_info": {
            "codemirror_mode": "r",
            "file_extension": ".r",
            "mimetype": "text/x-r-source",
            "name": "R",
            "pygments_lexer": "r",
            "version": "3.4.1"
        }
    },
    "nbformat": 4,
    "nbformat_minor": 1
}
