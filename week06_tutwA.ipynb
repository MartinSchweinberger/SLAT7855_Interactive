{
    "cells": [
        {
            "cell_type": "markdown",
            "metadata": {},
            "source": [
                "# Introduction {-}\n",
                "\n",
                "Statistics in general can be defined as a branch of mathematics that deals with data collection, organization, analysis, interpretation, and presentation. As such, statistics can be subdivided into two main areas. \n",
                "\n",
                "* **Descriptive statistics** deals with the description of data and their visualization\n",
                "\n",
                "* **Inferential statistics** deals with data analysis and interpretation. Typically, this means testing assumptions about correlations between variables \n",
                "\n",
                "As stated above, here, we will be dealing with the description of data, especially with  \n",
                "* *measures of central tendency*  \n",
                "* *measures of variability*   \n",
                "* *confidence intervals*  \n",
                "\n",
                "\n",
                "**Preparation and session set up**\n",
                "\n",
                "Before turning to the code below, please install the packages by running the code below this paragraph. If you have already installed the packages mentioned below, then you can skip ahead and ignore this section. To install the necessary packages, simply run the following code - it may take some time (between 1 and 5 minutes to install all of the libraries so you do not need to worry if it takes some time).\n"
            ]
        },
        {
            "cell_type": "code",
            "execution_count": null,
            "metadata": {},
            "outputs": [],
            "source": [
                "# install packages\n",
                "install.packages(\"dplyr\")\n",
                "install.packages(\"DescTools\")\n",
                "install.packages(\"readxl\")\n"
            ]
        },
        {
            "cell_type": "markdown",
            "metadata": {},
            "source": [
                "Now that we have installed the packages, we activate them as shown below.\n",
                "\n"
            ]
        },
        {
            "cell_type": "code",
            "execution_count": null,
            "metadata": {},
            "outputs": [],
            "source": [
                "# activate packages\n",
                "library(DescTools)\n",
                "library(dplyr)\n",
                "library(readxl)\n"
            ]
        },
        {
            "cell_type": "markdown",
            "metadata": {},
            "source": [
                "#  Tutorial Activity {-}\n",
                "\n",
                "Go into groups - each group will describe 1 data set.\n",
                "\n",
                "You need to find the following elements:\n",
                "\n",
                "**Task 1**: Calculate the overall mean, median, and standard deviation of the numeric variable.\n",
                "\n",
                "**Task 2**: Provide the frequencies of nominal and categorical variables\n",
                "\n",
                "**Task 3**: Cross-tabulate nominal and categorical variables\n",
                "\n",
                "**Task 4**: For each configuration of nominal and categorical variables (e.g. young women, young, men, middle aged women, middle-aged men, old women, old men), calculate \n",
                "  + the mean \n",
                "  + the median \n",
                "  + the range\n",
                "  + the standard deviation\n",
                "  + the variance\n",
                "\n",
                "**Task 5**: Calculate the confidence intervals for the numeric variable\n",
                "\n",
                "**Task 6**: Calculate the confidence intervals for the numeric variable for each configuration of nominal and categorical variables\n",
                "\n",
                "# Load data {-}\n",
                "\n",
                "\n",
                "Load data\n"
            ]
        },
        {
            "cell_type": "code",
            "execution_count": null,
            "metadata": {},
            "outputs": [],
            "source": [
                "# group 1\n",
                "dat <- readxl::read_excel(here::here(\"data\", \"week6g1.xlsx\"))\n",
                "# inspect\n",
                "head(dat)\n"
            ]
        },
        {
            "cell_type": "markdown",
            "metadata": {},
            "source": [
                "# Task 1\n",
                "\n",
                "Calculate the overall mean, median, and standard deviation of the numeric variable.\n"
            ]
        },
        {
            "cell_type": "code",
            "execution_count": null,
            "metadata": {},
            "outputs": [],
            "source": [
                "dat %>%\n",
                "  dplyr::summarise(Mean = mean(secat),\n",
                "                   Median = median(secat),\n",
                "                   SD = sd(secat))\n"
            ]
        },
        {
            "cell_type": "markdown",
            "metadata": {},
            "source": [
                "# Task 2\n",
                "\n",
                "Provide the frequencies of nominal and categorical variables\n"
            ]
        },
        {
            "cell_type": "code",
            "execution_count": null,
            "metadata": {},
            "outputs": [],
            "source": [
                "dat %>%\n",
                "  dplyr::group_by(class, grade) %>%\n",
                "  dplyr::summarise(Freq = n())\n"
            ]
        },
        {
            "cell_type": "markdown",
            "metadata": {},
            "source": [
                "# Task 3\n",
                "\n",
                "Cross-tabulate nominal and categorical variables\n"
            ]
        },
        {
            "cell_type": "code",
            "execution_count": null,
            "metadata": {},
            "outputs": [],
            "source": [
                "ftable(dat$class, dat$grade)\n",
                "\n"
            ]
        },
        {
            "cell_type": "markdown",
            "metadata": {},
            "source": [
                "# Task 4\n",
                "\n",
                "For each configuration of nominal and categorical variables (e.g. young women, young, men, middle aged women, middle-aged men, old women, old men), calculate \n",
                "  + the mean \n",
                "  + the median \n",
                "  + the range\n",
                "  + the standard deviation\n",
                "  + the variance.\n",
                "\n",
                "You need the functions: `mean`, `median`, `min`, `max`, `sd`, `^2`\n"
            ]
        },
        {
            "cell_type": "code",
            "execution_count": null,
            "metadata": {},
            "outputs": [],
            "source": [
                "dat %>%\n",
                "  dplyr::group_by(class, grade) %>%\n",
                "  dplyr::summarise(Mean = mean(secat),\n",
                "                   Median = median(secat),\n",
                "                   SD = sd(secat),\n",
                "                   Min = min(secat),\n",
                "                   Max = max(secat),\n",
                "                   Var = sd(secat)^2)\n"
            ]
        },
        {
            "cell_type": "markdown",
            "metadata": {},
            "source": [
                "# Task 5\n",
                "\n",
                "Calculate the confidence intervals for the numeric variable\n"
            ]
        },
        {
            "cell_type": "code",
            "execution_count": null,
            "metadata": {},
            "outputs": [],
            "source": [
                "Rmisc::CI(dat$secat, ci=0.95) \n",
                "\n"
            ]
        },
        {
            "cell_type": "markdown",
            "metadata": {},
            "source": [
                "# Task 6\n",
                "\n",
                "Calculate the confidence intervals for the numeric variable for each configuration of nominal and categorical variables\n",
                "\n",
                "Tip: split the data.\n"
            ]
        },
        {
            "cell_type": "code",
            "execution_count": null,
            "metadata": {},
            "outputs": [],
            "source": [
                "slat7806_low <- dat  %>%\n",
                "  dplyr::filter(class == \"SLAT7806\" & grade == \"low\")\n",
                "Rmisc::CI(slat7806_low$secat, ci=0.95)\n"
            ]
        },
        {
            "cell_type": "markdown",
            "metadata": {},
            "source": "\n"
        },
        {
            "cell_type": "code",
            "execution_count": null,
            "metadata": {},
            "outputs": [],
            "source": [
                "slat7806_mid <- dat  %>%\n",
                "  dplyr::filter(class == \"SLAT7806\" & grade == \"mid\")\n",
                "Rmisc::CI(slat7806_mid$secat, ci=0.95)\n"
            ]
        },
        {
            "cell_type": "markdown",
            "metadata": {},
            "source": "\n"
        },
        {
            "cell_type": "code",
            "execution_count": null,
            "metadata": {},
            "outputs": [],
            "source": [
                "slat7806_high <- dat  %>%\n",
                "  dplyr::filter(class == \"SLAT7806\" & grade == \"high\")\n",
                "Rmisc::CI(slat7806_high$secat, ci=0.95)\n"
            ]
        },
        {
            "cell_type": "markdown",
            "metadata": {},
            "source": "\n"
        },
        {
            "cell_type": "code",
            "execution_count": null,
            "metadata": {},
            "outputs": [],
            "source": [
                "slat7829_low <- dat  %>%\n",
                "  dplyr::filter(class == \"SLAT7829\" & grade == \"low\")\n",
                "Rmisc::CI(slat7829_low$secat, ci=0.95)\n"
            ]
        },
        {
            "cell_type": "markdown",
            "metadata": {},
            "source": "\n"
        },
        {
            "cell_type": "code",
            "execution_count": null,
            "metadata": {},
            "outputs": [],
            "source": [
                "slat7829_mid <- dat  %>%\n",
                "  dplyr::filter(class == \"SLAT7829\" & grade == \"mid\")\n",
                "Rmisc::CI(slat7829_mid$secat, ci=0.95)\n"
            ]
        },
        {
            "cell_type": "markdown",
            "metadata": {},
            "source": "\n"
        },
        {
            "cell_type": "code",
            "execution_count": null,
            "metadata": {},
            "outputs": [],
            "source": [
                "slat7829_high <- dat  %>%\n",
                "  dplyr::filter(class == \"SLAT7829\" & grade == \"high\")\n",
                "Rmisc::CI(slat7829_high$secat, ci=0.95)\n"
            ]
        },
        {
            "cell_type": "markdown",
            "metadata": {},
            "source": [
                "\n",
                "\n"
            ]
        },
        {
            "cell_type": "code",
            "execution_count": null,
            "metadata": {},
            "outputs": [],
            "source": [
                "slat7855_low <- dat  %>%\n",
                "  dplyr::filter(class == \"SLAT7855\" & grade == \"low\")\n",
                "Rmisc::CI(slat7855_low$secat, ci=0.95)\n"
            ]
        },
        {
            "cell_type": "markdown",
            "metadata": {},
            "source": "\n"
        },
        {
            "cell_type": "code",
            "execution_count": null,
            "metadata": {},
            "outputs": [],
            "source": [
                "slat7855_mid <- dat  %>%\n",
                "  dplyr::filter(class == \"SLAT7855\" & grade == \"mid\")\n",
                "Rmisc::CI(slat7855_mid$secat, ci=0.95)\n"
            ]
        },
        {
            "cell_type": "markdown",
            "metadata": {},
            "source": "\n"
        },
        {
            "cell_type": "code",
            "execution_count": null,
            "metadata": {},
            "outputs": [],
            "source": [
                "slat7855_high <- dat  %>%\n",
                "  dplyr::filter(class == \"SLAT7855\" & grade == \"high\")\n",
                "Rmisc::CI(slat7855_high$secat, ci=0.95)\n"
            ]
        },
        {
            "cell_type": "markdown",
            "metadata": {},
            "source": [
                "[Back to top](#descriptive_statistics)\n",
                "\n"
            ]
        }
    ],
    "metadata": {
        "anaconda-cloud": "",
        "kernelspec": {
            "display_name": "R",
            "langauge": "R",
            "name": "ir"
        },
        "language_info": {
            "codemirror_mode": "r",
            "file_extension": ".r",
            "mimetype": "text/x-r-source",
            "name": "R",
            "pygments_lexer": "r",
            "version": "3.4.1"
        }
    },
    "nbformat": 4,
    "nbformat_minor": 1
}
