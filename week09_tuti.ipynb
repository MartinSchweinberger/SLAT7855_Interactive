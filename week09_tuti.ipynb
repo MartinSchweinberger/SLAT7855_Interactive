{
    "cells": [
        {
            "cell_type": "markdown",
            "metadata": {},
            "source": [
                "# Week 09: Simple Linear Regression\n",
                "\n",
                "## Introduction \n",
                "\n",
                "In this tutorial, we will learn to how to perform simple linear regression.\n",
                "\n",
                "**Preparation and session set up**\n",
                "\n",
                "Before turning to the code below, please install the packages by running the code below this paragraph. If you have already installed the packages mentioned below, then you can skip ahead and ignore this section. To install the necessary packages, simply run the following code - it may take some time (between 1 and 5 minutes to install all of the libraries so you do not need to worry if it takes some time).\n"
            ]
        },
        {
            "cell_type": "code",
            "execution_count": null,
            "metadata": {},
            "outputs": [],
            "source": [
                "# install packages\n",
                "#install.packages(\"here\")\n",
                "#install.packages(\"dplyr\")\n",
                "#install.packages(\"ggplot2\")\n",
                "#install.packages(\"sjPlot\", dependencies = T)\n",
                "#install.packages(\"report\")\n"
            ]
        },
        {
            "cell_type": "markdown",
            "metadata": {},
            "source": [
                "Now that we have installed the packages, we activate them as shown below.\n",
                "\n"
            ]
        },
        {
            "cell_type": "code",
            "execution_count": null,
            "metadata": {},
            "outputs": [],
            "source": [
                "# activate packages\n",
                "library(here)\n",
                "library(dplyr)\n",
                "library(ggplot2)\n",
                "library(sjPlot)\n",
                "library(report)\n"
            ]
        },
        {
            "cell_type": "markdown",
            "metadata": {},
            "source": [
                "##  Tutorial Activity \n",
                "\n",
                "Go into groups - each group and help each other to bring the data into the correct format, visualize the data and perform the test.\n",
                "\n",
                "## Task 1\n",
                "\n",
                "\n",
                "Simple linear regression is a better alternative for independent t-tests (because, in addition to providing the same information that t-tests do, it also provides model fit information).\n",
                "\n",
                "\n",
                "Let's use the example we already encountered in week 8 and perform a regression on this data set.\n",
                "\n",
                "Imagine you want to investigate if L1 Chinese learners of English differ in the length with which they produce vowel sounds from L1 Australian English speakers. This would be important because vowel length in English is meaning distinguishing as in *bit* vs *beat*. Thus, English speakers pay particular attestation to vowel duration and notice unnaturally long and short vowels as being weird or more difficult to understand.\n",
                "\n",
                "To this end, Martin has extracted vowel duration for you from Chinese learners of English and L1 English speakers.\n",
                "\n",
                "The RQ is if Chinese learners of English differ from L1 English speakers in terms of vowel duration.\n",
                "\n",
                "Can you answer the RQ based on the week8d3.xlsx data set?\n",
                "\n",
                "Load data\n"
            ]
        },
        {
            "cell_type": "code",
            "execution_count": null,
            "metadata": {},
            "outputs": [],
            "source": [
                "# load data\n",
                "dat1 <- readxl::read_excel(here::here(\"data\", \"week8d3.xlsx\"))\n",
                "# inspect\n",
                "head(dat1)\n"
            ]
        },
        {
            "cell_type": "markdown",
            "metadata": {},
            "source": [
                "\n",
                "\n"
            ]
        },
        {
            "cell_type": "code",
            "execution_count": null,
            "metadata": {},
            "outputs": [],
            "source": [
                "dat1  %>%\n",
                "  ggplot(aes(L1, Duration)) +\n",
                "  geom_boxplot()\n"
            ]
        },
        {
            "cell_type": "markdown",
            "metadata": {},
            "source": [
                "Fit linear regression\n",
                "\n"
            ]
        },
        {
            "cell_type": "code",
            "execution_count": null,
            "metadata": {},
            "outputs": [],
            "source": [
                "m1 <- lm(Duration ~ L1, data = dat1)\n",
                "# inspect results\n",
                "summary(m1)\n"
            ]
        },
        {
            "cell_type": "markdown",
            "metadata": {},
            "source": [
                "Let us now compare this to the results to the t-test.\n",
                "\n"
            ]
        },
        {
            "cell_type": "code",
            "execution_count": null,
            "metadata": {},
            "outputs": [],
            "source": [
                "t.test(Duration ~ L1, data = dat1)\n",
                "\n"
            ]
        },
        {
            "cell_type": "markdown",
            "metadata": {},
            "source": [
                "Diagnose model: do we need to remove outliers or use another method?\n",
                "\n"
            ]
        },
        {
            "cell_type": "code",
            "execution_count": null,
            "metadata": {},
            "outputs": [],
            "source": [
                "plot(m1)\n",
                "\n"
            ]
        },
        {
            "cell_type": "markdown",
            "metadata": {},
            "source": [
                "Visualize results\n",
                "\n"
            ]
        },
        {
            "cell_type": "code",
            "execution_count": null,
            "metadata": {},
            "outputs": [],
            "source": [
                "sjPlot::plot_model(m1, type = \"pred\", terms = c(\"L1\"))\n",
                "\n"
            ]
        },
        {
            "cell_type": "markdown",
            "metadata": {},
            "source": [
                "Summarize\n",
                "\n"
            ]
        },
        {
            "cell_type": "code",
            "execution_count": null,
            "metadata": {},
            "outputs": [],
            "source": [
                "sjPlot::tab_model(m1)\n",
                "\n"
            ]
        },
        {
            "cell_type": "markdown",
            "metadata": {},
            "source": [
                "Write-up results\n",
                "\n"
            ]
        },
        {
            "cell_type": "code",
            "execution_count": null,
            "metadata": {},
            "outputs": [],
            "source": [
                "report::report(m1)\n",
                "\n"
            ]
        },
        {
            "cell_type": "markdown",
            "metadata": {},
            "source": [
                "> We fitted a linear model (estimated using OLS) to predict vowel duration based on speakers' L1  (formula: Duration ~ L1). The model explains a statistically significant and moderate proportion of variance (R^2^ = 0.19, F(1, 188) = 44.37, p < .001, adj. R^2^ = 0.19). The model's intercept, corresponding to L1 = English, is at 102.13 ([98.67, 105.60], t(188) = 58.19, p < .001). The effect of L1 [Chinese] is statistically significant and positive (beta = 18.02 [12.68, 23.35], t(188) = 6.66, p < .001; Std. beta = 0.88 [0.62, 1.14])\n",
                "\n",
                "\n",
                "\n",
                "## Task 2\n",
                "\n",
                "We go back to the data sets we have analyzed in week 6. Here, the RQ is if the courses differ in how satisfied students were with the courses. Satisfaction is operationalized as secat scores and the course a student attended is provided in the *class* column.\n",
                "\n",
                "Load the data set `week6g1.xlsx`. Visualize the data and perform a full regression analysis. \n"
            ]
        },
        {
            "cell_type": "code",
            "execution_count": null,
            "metadata": {},
            "outputs": [],
            "source": [
                "dat2 <- readxl::read_excel(here::here(\"data\", \"week6g1.xlsx\"))\n",
                "# inspect\n",
                "head(dat2)\n"
            ]
        },
        {
            "cell_type": "markdown",
            "metadata": {},
            "source": [
                "Visualize data\n",
                "\n"
            ]
        },
        {
            "cell_type": "code",
            "execution_count": null,
            "metadata": {},
            "outputs": [],
            "source": [
                "dat2  %>%\n",
                "  ggplot(aes(class, secat)) +\n",
                "  geom_boxplot()\n"
            ]
        },
        {
            "cell_type": "markdown",
            "metadata": {},
            "source": [
                "Fitting a model\n",
                "\n"
            ]
        },
        {
            "cell_type": "code",
            "execution_count": null,
            "metadata": {},
            "outputs": [],
            "source": [
                "m2 <- lm(secat ~ class, data = dat2)\n",
                "# inspect results\n",
                "summary(m2)\n"
            ]
        },
        {
            "cell_type": "markdown",
            "metadata": {},
            "source": [
                "Diagnostics: outliers?\n",
                "\n"
            ]
        },
        {
            "cell_type": "code",
            "execution_count": null,
            "metadata": {},
            "outputs": [],
            "source": [
                "plot(m2)\n",
                "\n"
            ]
        },
        {
            "cell_type": "markdown",
            "metadata": {},
            "source": [
                "Effects\n",
                "\n"
            ]
        },
        {
            "cell_type": "code",
            "execution_count": null,
            "metadata": {},
            "outputs": [],
            "source": [
                "sjPlot::plot_model(m2, type = \"pred\", terms = c(\"class\")) +\n",
                "  coord_cartesian(ylim = c(0, 7))\n"
            ]
        },
        {
            "cell_type": "markdown",
            "metadata": {},
            "source": [
                "Summarize\n",
                "\n"
            ]
        },
        {
            "cell_type": "code",
            "execution_count": null,
            "metadata": {},
            "outputs": [],
            "source": [
                "sjPlot::tab_model(m2)\n",
                "\n"
            ]
        },
        {
            "cell_type": "markdown",
            "metadata": {},
            "source": [
                "Report\n",
                "\n"
            ]
        },
        {
            "cell_type": "code",
            "execution_count": null,
            "metadata": {},
            "outputs": [],
            "source": [
                "report::report(m2)\n",
                "\n"
            ]
        },
        {
            "cell_type": "markdown",
            "metadata": {},
            "source": [
                "## Outro\n",
                "\n"
            ]
        },
        {
            "cell_type": "code",
            "execution_count": null,
            "metadata": {},
            "outputs": [],
            "source": [
                "sessionInfo()\n",
                "\n"
            ]
        },
        {
            "cell_type": "markdown",
            "metadata": {},
            "source": [
                "\n",
                "\n"
            ]
        }
    ],
    "metadata": {
        "anaconda-cloud": "",
        "kernelspec": {
            "display_name": "R",
            "langauge": "R",
            "name": "ir"
        },
        "language_info": {
            "codemirror_mode": "r",
            "file_extension": ".r",
            "mimetype": "text/x-r-source",
            "name": "R",
            "pygments_lexer": "r",
            "version": "3.4.1"
        }
    },
    "nbformat": 4,
    "nbformat_minor": 1
}
