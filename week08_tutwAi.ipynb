{
    "cells": [
        {
            "cell_type": "markdown",
            "metadata": {},
            "source": [
                "# Week 08: Basic Inference Statistics\n",
                "\n",
                "## Introduction \n",
                "\n",
                "In this tutorial, we will learn to how to perform basic tests for null-hypothesis testing.\n",
                "\n",
                "**Preparation and session set up**\n",
                "\n",
                "Before turning to the code below, please install the packages by running the code below this paragraph. If you have already installed the packages mentioned below, then you can skip ahead and ignore this section. To install the necessary packages, simply run the following code - it may take some time (between 1 and 5 minutes to install all of the libraries so you do not need to worry if it takes some time).\n"
            ]
        },
        {
            "cell_type": "code",
            "execution_count": null,
            "metadata": {},
            "outputs": [],
            "source": [
                "# install packages\n",
                "#install.packages(\"here\")\n",
                "#install.packages(\"dplyr\")\n",
                "#install.packages(\"ggplot2\")\n"
            ]
        },
        {
            "cell_type": "markdown",
            "metadata": {},
            "source": [
                "Now that we have installed the packages, we activate them as shown below.\n",
                "\n"
            ]
        },
        {
            "cell_type": "code",
            "execution_count": null,
            "metadata": {},
            "outputs": [],
            "source": [
                "# activate packages\n",
                "library(here)\n",
                "library(dplyr)\n",
                "library(ggplot2)\n"
            ]
        },
        {
            "cell_type": "markdown",
            "metadata": {},
            "source": [
                "##  Tutorial Activity \n",
                "\n",
                "Go into groups - each group and help each other to bring the data into the correct format, visualize the data and perform the test..\n",
                "\n",
                "## Task 1\n",
                "\n",
                "In English, we commonly use suffixation, the plural -s, to indicate number (*one tree* vs *three tree***s**) while other languages, e.g., Japanese or Chinese do not use suffixation to indicate plurality (*one tree* vs *three tree*). \n",
                "\n",
                "The data represent nouns produced by intermediate and advanced learners of English and if the nouns had a number marking error. \n",
                "\n",
                "RQ: Do more advanced learners produce fewer errors in terms of number marking?\n",
                "\n",
                "Perform a X2-test to answer the RQ. \n",
                "\n",
                "**Load data**\n"
            ]
        },
        {
            "cell_type": "code",
            "execution_count": null,
            "metadata": {},
            "outputs": [],
            "source": [
                "# load data\n",
                "dat <- readxl::read_excel(here::here(\"data\", \"week8d1.xlsx\"))\n",
                "# inspect\n",
                "head(dat)\n"
            ]
        },
        {
            "cell_type": "markdown",
            "metadata": {},
            "source": [
                "Bring data into correct format.\n",
                "\n"
            ]
        },
        {
            "cell_type": "code",
            "execution_count": null,
            "metadata": {},
            "outputs": [],
            "source": [
                "x2dat <- dat %>%\n",
                "  dplyr::group_by(Proficiency, PluralError) %>%\n",
                "  dplyr::summarise(Errors = n()) %>%\n",
                "  tidyr::spread(PluralError, Errors) %>%\n",
                "  dplyr::ungroup() %>%\n",
                "  dplyr::select(-Proficiency) %>%\n",
                "  as.matrix()\n",
                "rownames(x2dat) <- names(table(dat$Proficiency))\n",
                "x2dat\n"
            ]
        },
        {
            "cell_type": "markdown",
            "metadata": {},
            "source": [
                "Visualize data\n",
                "\n",
                "Assocplot\n"
            ]
        },
        {
            "cell_type": "code",
            "execution_count": null,
            "metadata": {},
            "outputs": [],
            "source": [
                "assocplot(x2dat)\n",
                "\n"
            ]
        },
        {
            "cell_type": "markdown",
            "metadata": {},
            "source": [
                "Assocplot\n",
                "\n"
            ]
        },
        {
            "cell_type": "code",
            "execution_count": null,
            "metadata": {},
            "outputs": [],
            "source": [
                "mosaicplot(x2dat, shade = T)\n",
                "\n"
            ]
        },
        {
            "cell_type": "markdown",
            "metadata": {},
            "source": "\n"
        },
        {
            "cell_type": "code",
            "execution_count": null,
            "metadata": {},
            "outputs": [],
            "source": [
                "chisq.test(x2dat)\n",
                "\n"
            ]
        },
        {
            "cell_type": "markdown",
            "metadata": {},
            "source": [
                "Determine effect size\n",
                "\n"
            ]
        },
        {
            "cell_type": "code",
            "execution_count": null,
            "metadata": {},
            "outputs": [],
            "source": [
                "effectsize::cramers_v(x2dat)\n",
                "\n"
            ]
        },
        {
            "cell_type": "markdown",
            "metadata": {},
            "source": [
                "Write-up results\n",
                "\n",
                "\n",
                "> A χ2-test confirmed a highly significant correlation of moderate size between the proficiency level of speakers and their likelihood to commit errors in plural marking (χ2 = 16.81, df = 1, p < .001***, ϕ = .30).\n",
                "\n",
                "\n",
                "## Task 2\n",
                "\n",
                "Paired t-test. \n",
                "\n",
                "45 students received training in avoiding errors when writing essays in English.\n",
                "\n",
                "The students were asked to write a 1,000 word essay before the training and at the end of the training.\n",
                "\n",
                "Use a paired t-test to see if the trainign was successful.\n"
            ]
        },
        {
            "cell_type": "code",
            "execution_count": null,
            "metadata": {},
            "outputs": [],
            "source": [
                "# load data\n",
                "tdat <- readxl::read_excel(here::here(\"data\", \"week8d2.xlsx\"))\n",
                "# inspect\n",
                "head(tdat)\n"
            ]
        },
        {
            "cell_type": "markdown",
            "metadata": {},
            "source": [
                "\n",
                "\n"
            ]
        },
        {
            "cell_type": "code",
            "execution_count": null,
            "metadata": {},
            "outputs": [],
            "source": [
                "tdat %>%\n",
                "  tidyr::gather(Tested, Errors, Before:After) %>%\n",
                "  ggplot(aes(Tested, Errors)) +\n",
                "  geom_boxplot()\n"
            ]
        },
        {
            "cell_type": "markdown",
            "metadata": {},
            "source": [
                "Perform test\n",
                "\n"
            ]
        },
        {
            "cell_type": "code",
            "execution_count": null,
            "metadata": {},
            "outputs": [],
            "source": [
                "t.test(tdat$Before, tdat$After, paired = T)\n",
                "\n"
            ]
        },
        {
            "cell_type": "markdown",
            "metadata": {},
            "source": [
                "Write-up results\n",
                "\n"
            ]
        },
        {
            "cell_type": "code",
            "execution_count": null,
            "metadata": {},
            "outputs": [],
            "source": [
                "report::report(t.test(tdat$After, tdat$Before, paired = T))\n",
                "\n"
            ]
        },
        {
            "cell_type": "markdown",
            "metadata": {},
            "source": [
                "## Task 3\n",
                "\n",
                "Independent t-test.\n",
                "\n",
                "Imagine you want to investigate if L1 Japanese learners of English differ in the length with which they produce vowel sounds from L1 Australian English speakers. This would be important because vowel length in English is meaning distinguishing as in *bit* vs *beat*. Thus, English speakers pay particular attestation to vowel duration and notice unnaturally long and short vowels as being weird or more difficult to understand.\n",
                "\n",
                "To this end, Martin has extracted vowel duration for you from Japanese learners of English and L1 English speakers.\n",
                "\n",
                "The RQ is if Japanese learners of English differ from L1 English speakers in terms of vowel duration.\n",
                "\n",
                "Can you answer the RQ based on the week8t3.xlsx data set?\n",
                "\n",
                "Load data\n"
            ]
        },
        {
            "cell_type": "code",
            "execution_count": null,
            "metadata": {},
            "outputs": [],
            "source": [
                "# load data\n",
                "t2dat <- readxl::read_excel(here::here(\"data\", \"week8d3.xlsx\"))\n",
                "# inspect\n",
                "head(t2dat)\n"
            ]
        },
        {
            "cell_type": "markdown",
            "metadata": {},
            "source": [
                "\n",
                "\n"
            ]
        },
        {
            "cell_type": "code",
            "execution_count": null,
            "metadata": {},
            "outputs": [],
            "source": [
                "t2dat  %>%\n",
                "  ggplot(aes(L1, Duration)) +\n",
                "  geom_boxplot()\n"
            ]
        },
        {
            "cell_type": "markdown",
            "metadata": {},
            "source": [
                "Perform independent t-test\n",
                "\n"
            ]
        },
        {
            "cell_type": "code",
            "execution_count": null,
            "metadata": {},
            "outputs": [],
            "source": [
                "t.test(t2dat$Duration ~ t2dat$L1)\n",
                "\n"
            ]
        },
        {
            "cell_type": "markdown",
            "metadata": {},
            "source": [
                "Write-up results\n",
                "\n"
            ]
        },
        {
            "cell_type": "code",
            "execution_count": null,
            "metadata": {},
            "outputs": [],
            "source": [
                "report::report(t.test(t2dat$Duration ~ t2dat$L1))\n",
                "\n"
            ]
        },
        {
            "cell_type": "markdown",
            "metadata": {},
            "source": [
                "## Task 4\n",
                "\n",
                "You go to a party organized by the UQ R Users Group and ask people how many alcoholic drinks they have had. Most people there did not drink any alcohol or only 1 drink (but Martin and his friends had a few drinks - bad Martin!). You then ask everybody to read a tongue twister and you record how often they made a mistake. \n",
                "\n",
                "You do this to find out if drinking alcohol leads to more errors when speaking.\n",
                "\n",
                "Load the data set `week8d4.xlsx`. Visualize the dat and have a look - what test should you use? \n"
            ]
        },
        {
            "cell_type": "code",
            "execution_count": null,
            "metadata": {},
            "outputs": [],
            "source": [
                "wdat <- readxl::read_excel(here::here(\"data\", \"week8d4.xlsx\"))\n",
                "# inspect\n",
                "head(wdat)\n"
            ]
        },
        {
            "cell_type": "markdown",
            "metadata": {},
            "source": [
                "\n",
                "\n"
            ]
        },
        {
            "cell_type": "code",
            "execution_count": null,
            "metadata": {},
            "outputs": [],
            "source": [
                "wdat  %>%\n",
                "  ggplot(aes(Drinks)) +\n",
                "  geom_density(fill = \"lightblue\", alpha = .2) +\n",
                "  theme_bw()\n"
            ]
        },
        {
            "cell_type": "markdown",
            "metadata": {},
            "source": [
                "\n",
                "\n"
            ]
        },
        {
            "cell_type": "code",
            "execution_count": null,
            "metadata": {},
            "outputs": [],
            "source": [
                "wdat  %>%\n",
                "  ggplot(aes(Errors)) +\n",
                "  geom_density(fill = \"orange\", alpha = .2) +\n",
                "  theme_bw()\n"
            ]
        },
        {
            "cell_type": "markdown",
            "metadata": {},
            "source": "\n"
        },
        {
            "cell_type": "code",
            "execution_count": null,
            "metadata": {},
            "outputs": [],
            "source": [
                "wilcox.test(wdat$Drinks - wdat$Errors, paired = F) \n",
                "\n"
            ]
        },
        {
            "cell_type": "markdown",
            "metadata": {},
            "source": "\n"
        },
        {
            "cell_type": "code",
            "execution_count": null,
            "metadata": {},
            "outputs": [],
            "source": [
                "report::report(wilcox.test(wdat$Drinks - wdat$Errors) )\n",
                "\n"
            ]
        },
        {
            "cell_type": "markdown",
            "metadata": {},
            "source": [
                "## Task 5 (Optional)\n",
                "\n",
                "Imagine, you want to test if more proficient students are faster at recognizing words than less proficient students. To this end, you have set up an experiment where participants are shown non-words such as *swimp* or *doughten* as well as proper English words such as *drank* and *wimpering* and recorded the time it took participants to press a key when they recognized that the prompt was a real word. \n",
                "\n",
                "The idea is that you could simply show students prompts and have them press keys to determine their proficiency rather than having them perform IELTS tests.\n",
                "\n",
                "What test would you use to test if reaction times correspond with proficiency?\n",
                "\n",
                "Load the data set `week8d5.xlsx` and perform the test. What does it show?\n"
            ]
        },
        {
            "cell_type": "code",
            "execution_count": null,
            "metadata": {},
            "outputs": [],
            "source": [
                "odat <-  readxl::read_excel(here::here(\"data\", \"week8d5.xlsx\"))\n",
                "# inspect\n",
                "head(odat)\n"
            ]
        },
        {
            "cell_type": "markdown",
            "metadata": {},
            "source": [
                "Visualize\n",
                "\n"
            ]
        },
        {
            "cell_type": "code",
            "execution_count": null,
            "metadata": {},
            "outputs": [],
            "source": [
                "ggplot(odat, aes(Word, ReactionTime)) +\n",
                "  geom_boxplot()\n"
            ]
        },
        {
            "cell_type": "markdown",
            "metadata": {},
            "source": [
                "\n",
                "\n"
            ]
        },
        {
            "cell_type": "code",
            "execution_count": null,
            "metadata": {},
            "outputs": [],
            "source": [
                "t.test(odat$ReactionTime ~ odat$Word)\n",
                "\n"
            ]
        },
        {
            "cell_type": "markdown",
            "metadata": {},
            "source": [
                "\n",
                "\n"
            ]
        },
        {
            "cell_type": "code",
            "execution_count": null,
            "metadata": {},
            "outputs": [],
            "source": [
                "report::report(t.test(odat$ReactionTime ~ odat$Word))\n",
                "\n"
            ]
        },
        {
            "cell_type": "markdown",
            "metadata": {},
            "source": [
                "\n",
                "\n"
            ]
        }
    ],
    "metadata": {
        "anaconda-cloud": "",
        "kernelspec": {
            "display_name": "R",
            "langauge": "R",
            "name": "ir"
        },
        "language_info": {
            "codemirror_mode": "r",
            "file_extension": ".r",
            "mimetype": "text/x-r-source",
            "name": "R",
            "pygments_lexer": "r",
            "version": "3.4.1"
        }
    },
    "nbformat": 4,
    "nbformat_minor": 1
}
