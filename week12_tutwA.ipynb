{
    "cells": [
        {
            "cell_type": "markdown",
            "metadata": {},
            "source": [
                "# Introduction {-}\n",
                "\n",
                "In this tutorial, we will learn to how to implement a logistic mixed-effects model.\n",
                "\n",
                "**Preparation and session set up**\n",
                "\n",
                "Before turning to the code below, please install the packages by running the code below this paragraph. If you have already installed the packages mentioned below, then you can skip ahead and ignore this section. To install the necessary packages, simply run the following code - it may take some time (between 1 and 5 minutes to install all of the libraries so you do not need to worry if it takes some time).\n"
            ]
        },
        {
            "cell_type": "code",
            "execution_count": null,
            "metadata": {},
            "outputs": [],
            "source": [
                "# install packages\n",
                "install.packages(\"here\")\n",
                "install.packages(\"dplyr\")\n",
                "install.packages(\"ggplot2\")\n",
                "install.packages(\"glmulti\")\n",
                "install.packages(\"sjPlot\")\n",
                "install.packages(\"report\")\n",
                "install.packages(\"lme4\")\n",
                "install.packages(\"rms\")\n",
                "install.packages(\"car\")\n"
            ]
        },
        {
            "cell_type": "markdown",
            "metadata": {},
            "source": [
                "Now that we have installed the packages, we activate them as shown below.\n",
                "\n"
            ]
        },
        {
            "cell_type": "code",
            "execution_count": null,
            "metadata": {},
            "outputs": [],
            "source": [
                "# activate packages\n",
                "library(here)\n",
                "library(dplyr)\n",
                "library(ggplot2)\n",
                "library(glmulti)\n",
                "library(sjPlot)\n",
                "library(report)\n",
                "library(lme4)\n",
                "library(rms)\n",
                "library(car)\n"
            ]
        },
        {
            "cell_type": "markdown",
            "metadata": {},
            "source": [
                "#  Tutorial Activity {-}\n",
                "\n",
                "Go into groups - each group and help each other to bring the data into the correct format, visualize the data and perform the logistic mixed-effects regression.\n",
                "\n",
                "# Task 1\n",
                "\n",
                "In this example, we want to see what factors impact the use of *eh* in New Zealand English.\n",
                "\n",
                "Load the data set `week12d1.xlsx`. Visualize the data and perform a logistic mixed-effects regression to determine what factors impact if a speech unit ends with *eh*. \n"
            ]
        },
        {
            "cell_type": "code",
            "execution_count": null,
            "metadata": {},
            "outputs": [],
            "source": [
                "dat1 <- readxl::read_excel(here::here(\"data\", \"week12d1.xlsx\")) \n",
                "# inspect\n",
                "head(dat1)\n"
            ]
        },
        {
            "cell_type": "markdown",
            "metadata": {},
            "source": [
                "Prepare data\n",
                "\n"
            ]
        },
        {
            "cell_type": "code",
            "execution_count": null,
            "metadata": {},
            "outputs": [],
            "source": [
                "dat1 <- dat1 %>% \n",
                "  dplyr::mutate_if(is.character, factor)\n",
                "# inspect\n",
                "head(dat1)\n"
            ]
        },
        {
            "cell_type": "markdown",
            "metadata": {},
            "source": [
                "Check nestedness\n",
                "\n"
            ]
        },
        {
            "cell_type": "code",
            "execution_count": null,
            "metadata": {},
            "outputs": [],
            "source": [
                "table(dat1$Speaker)\n",
                "\n"
            ]
        },
        {
            "cell_type": "markdown",
            "metadata": {},
            "source": "\n"
        },
        {
            "cell_type": "code",
            "execution_count": null,
            "metadata": {},
            "outputs": [],
            "source": [
                "table(dat1$Gender, dat1$EH)\n",
                "\n"
            ]
        },
        {
            "cell_type": "markdown",
            "metadata": {},
            "source": [
                "Visualize data\n",
                "\n"
            ]
        },
        {
            "cell_type": "code",
            "execution_count": null,
            "metadata": {},
            "outputs": [],
            "source": [
                "dat1  %>%\n",
                "  ggplot(aes(EH, fill = EH)) +\n",
                "  geom_bar(stat = \"count\") + \n",
                "  facet_grid(Gender ~ Age)\n"
            ]
        },
        {
            "cell_type": "markdown",
            "metadata": {},
            "source": [
                "Set options\n",
                "\n"
            ]
        },
        {
            "cell_type": "code",
            "execution_count": null,
            "metadata": {},
            "outputs": [],
            "source": [
                "# set contrasts\n",
                "options(contrasts  =c(\"contr.treatment\", \"contr.poly\"))\n",
                "# extract distribution summaries for all potential variables\n",
                "blrdata.dist <- datadist(dat1)\n",
                "# store distribution summaries for all potential variables\n",
                "options(datadist = \"blrdata.dist\")\n"
            ]
        },
        {
            "cell_type": "markdown",
            "metadata": {},
            "source": [
                "Model fitting\n",
                "\n",
                "Manual\n"
            ]
        },
        {
            "cell_type": "code",
            "execution_count": null,
            "metadata": {},
            "outputs": [],
            "source": [
                "m0 <- glmer(EH ~ (1|Speaker) + 1, data = dat1, family = binomial)\n",
                "\n"
            ]
        },
        {
            "cell_type": "markdown",
            "metadata": {},
            "source": [
                "Automated\n",
                "\n"
            ]
        },
        {
            "cell_type": "code",
            "execution_count": null,
            "metadata": {},
            "outputs": [],
            "source": [
                "# wrapper function for linear mixed-models\n",
                "glmer.glmulti <- function(formula,data, random=\"\",...){\n",
                "  glmer(paste(deparse(formula),random), family = binomial, data=data, ...)\n",
                "}\n",
                "# define formular\n",
                "form_glmulti = as.formula(paste(\"EH ~ Gender + Age + Ethnicity\"))\n",
                "\n",
                "\n",
                "# multi selection for glmer\n",
                "mfit <- glmulti(form_glmulti,random=\"+(1 | Speaker)\", \n",
                "                data = dat1, method = \"h\", fitfunc = glmer.glmulti,\n",
                "                crit = \"aic\")\n",
                "# extract best models\n",
                "top <- weightable(mfit)\n",
                "top <- top[1:10,]\n",
                "# inspect top 10 models\n",
                "top\n"
            ]
        },
        {
            "cell_type": "markdown",
            "metadata": {},
            "source": [
                "Define final minimal adequate model\n",
                "\n",
                "**WARNING!**: We should not be using this model due to substantive multi-collinearity (isSingular)\n"
            ]
        },
        {
            "cell_type": "code",
            "execution_count": null,
            "metadata": {},
            "outputs": [],
            "source": [
                "m1 <- glmer(EH ~ (1|Speaker) + Gender + Age + Ethnicity, family = \"binomial\", data = dat1)\n",
                "# inspect results\n",
                "summary(m1)\n"
            ]
        },
        {
            "cell_type": "markdown",
            "metadata": {},
            "source": [
                "Diagnostics\n",
                "\n",
                "Multicolliniarity\n"
            ]
        },
        {
            "cell_type": "code",
            "execution_count": null,
            "metadata": {},
            "outputs": [],
            "source": [
                "car::vif(m1)\n",
                "\n"
            ]
        },
        {
            "cell_type": "markdown",
            "metadata": {},
            "source": [
                "All good: the vif values are smaller than 5!\n",
                "\n",
                "Outliers?\n"
            ]
        },
        {
            "cell_type": "code",
            "execution_count": null,
            "metadata": {},
            "outputs": [],
            "source": [
                "plot(m1)\n",
                "\n"
            ]
        },
        {
            "cell_type": "markdown",
            "metadata": {},
            "source": [
                "Effects\n",
                "\n"
            ]
        },
        {
            "cell_type": "code",
            "execution_count": null,
            "metadata": {},
            "outputs": [],
            "source": [
                "sjPlot::plot_model(m1, type = \"pred\", terms = c(\"Gender\", \"Age\", \"Ethnicity\"))\n",
                "\n"
            ]
        },
        {
            "cell_type": "markdown",
            "metadata": {},
            "source": [
                "Summarize\n",
                "\n"
            ]
        },
        {
            "cell_type": "code",
            "execution_count": null,
            "metadata": {},
            "outputs": [],
            "source": [
                "sjPlot::tab_model(m1)\n",
                "\n"
            ]
        },
        {
            "cell_type": "markdown",
            "metadata": {},
            "source": [
                "Report\n",
                "\n"
            ]
        },
        {
            "cell_type": "code",
            "execution_count": null,
            "metadata": {},
            "outputs": [],
            "source": [
                "report::report(m1)\n",
                "\n"
            ]
        },
        {
            "cell_type": "markdown",
            "metadata": {},
            "source": [
                "# Outro\n",
                "\n"
            ]
        },
        {
            "cell_type": "code",
            "execution_count": null,
            "metadata": {},
            "outputs": [],
            "source": [
                "sessionInfo()\n",
                "\n"
            ]
        },
        {
            "cell_type": "markdown",
            "metadata": {},
            "source": [
                "\n",
                "\n"
            ]
        }
    ],
    "metadata": {
        "anaconda-cloud": "",
        "kernelspec": {
            "display_name": "R",
            "langauge": "R",
            "name": "ir"
        },
        "language_info": {
            "codemirror_mode": "r",
            "file_extension": ".r",
            "mimetype": "text/x-r-source",
            "name": "R",
            "pygments_lexer": "r",
            "version": "3.4.1"
        }
    },
    "nbformat": 4,
    "nbformat_minor": 1
}
