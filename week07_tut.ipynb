{
    "cells": [
        {
            "cell_type": "markdown",
            "metadata": {},
            "source": [
                "# Introduction {-}\n",
                "\n",
                "In this tutorial, we will learn to generate visualizations in R using the `ggplot2` package.\n",
                "\n",
                "When visualizing data with the `ggplot2` package:\n",
                "\n",
                "* We start by calling the `ggplot` function  \n",
                "* Next, we define the data that we want to visualize.  \n",
                "* Then, we provide aesthetics (`aes`) which determine the axes (and optionally colors and shapes).  \n",
                "* Next, we add layers using geometrics (`geom_`). \n",
                "* Optionally, we break the plot up into factes.\n",
                "* Optionally, we manually set colors and define axes labels.\n",
                "* Finally, and, optionally, we can modify the theme.\n",
                "\n",
                "The most basic form of a `ggplot` looks as follows: \n",
                "\n",
                "> ggplot(data, aes(x, y)) + geom_point()\n",
                "\n",
                "**Preparation and session set up**\n",
                "\n",
                "Before turning to the code below, please install the packages by running the code below this paragraph. If you have already installed the packages mentioned below, then you can skip ahead and ignore this section. To install the necessary packages, simply run the following code - it may take some time (between 1 and 5 minutes to install all of the libraries so you do not need to worry if it takes some time).\n"
            ]
        },
        {
            "cell_type": "code",
            "execution_count": null,
            "metadata": {},
            "outputs": [],
            "source": [
                "# install packages\n",
                "install.packages(\"dplyr\")\n",
                "install.packages(\"ggplot2\")\n"
            ]
        },
        {
            "cell_type": "markdown",
            "metadata": {},
            "source": [
                "Now that we have installed the packages, we activate them as shown below.\n",
                "\n"
            ]
        },
        {
            "cell_type": "code",
            "execution_count": null,
            "metadata": {},
            "outputs": [],
            "source": [
                "# activate packages\n",
                "library(dplyr)\n",
                "library(ggplot2)\n"
            ]
        },
        {
            "cell_type": "markdown",
            "metadata": {},
            "source": [
                "#  Tutorial Activity {-}\n",
                "\n",
                "Go into groups - each group will visualize 1 data set.\n",
                "\n",
                "You need to visualize the following:\n",
                "\n",
                "**Task 1**: Create a boxplot the secat on the y axis and the class on the x-axis.\n",
                "\n",
                "**Task 2**: Create a boxplot the secat on the y axis and the class on the x-axis AND use different colors for each class: orange for SLAT7806, gray for SLAT7829, and lightblue for SLAT7855.\n",
                "\n",
                "**Task 3**: Prettify the graph you have just created.\n",
                "\n",
                "**Task 4**: Create a boxplot the secat on the y axis and the class on the x-axis AND break up the plot into different facets by grade.\n",
                "\n",
                "**Task 5**: Calculate the mean secats for each class and grade and visualize them as a bar plot.\n",
                "\n",
                "**Task 6**: Calculate the mean secats for each class and grade and visualize them as a bar plot AND add labels for each bar AND break up the plot into facets by class.\n",
                "\n",
                "**Task 7**: Prettify the graph you just created.\n",
                "\n",
                "\n",
                "# Load data {-}\n",
                "\n",
                "\n",
                "Load data\n"
            ]
        },
        {
            "cell_type": "code",
            "execution_count": null,
            "metadata": {},
            "outputs": [],
            "source": [
                "# group 1\n",
                "dat <- readxl::read_excel(here::here(\"data\", \"week6g1.xlsx\"))\n",
                "# inspect\n",
                "head(dat)\n"
            ]
        },
        {
            "cell_type": "markdown",
            "metadata": {},
            "source": [
                "# Task 1\n",
                "\n",
                "Create a boxplot the secat on the y axis and the class on the x-axis.\n"
            ]
        },
        {
            "cell_type": "code",
            "execution_count": null,
            "metadata": {},
            "outputs": [],
            "source": [
                "ggplot(dat, aes(y = secat, x = class)) +\n",
                "  geom_boxplot()\n"
            ]
        },
        {
            "cell_type": "markdown",
            "metadata": {},
            "source": [
                "# Task 2\n",
                "\n",
                "Create a boxplot the secat on the y axis and the class on the x-axis AND use different colors for each class: orange for SLAT7806, gray for SLAT7829, and lightblue for SLAT7855.\n"
            ]
        },
        {
            "cell_type": "code",
            "execution_count": null,
            "metadata": {},
            "outputs": [],
            "source": [
                "ggplot(dat, aes(class, secat, fill = class)) +\n",
                "  geom_boxplot() +\n",
                "  scale_fill_manual(values = c(\"orange\", \"gray\", \"lightblue\"))\n"
            ]
        },
        {
            "cell_type": "markdown",
            "metadata": {},
            "source": [
                "# Task 3\n",
                "\n",
                "Prettify the graph you have just created.\n"
            ]
        },
        {
            "cell_type": "code",
            "execution_count": null,
            "metadata": {},
            "outputs": [],
            "source": [
                "ggplot(dat, aes(class, secat, fill = class)) +\n",
                "  geom_boxplot() +\n",
                "  scale_fill_manual(values = c(\"orange\", \"gray\", \"lightblue\")) +\n",
                "  labs(title = \"SECaTs of 3 selected courses by a horrible lecturer\", x = \"Course\", y = \"SECaT (out of 7)\") +\n",
                "  coord_cartesian(ylim = c(1, 7)) +\n",
                "  theme_bw() +\n",
                "  theme(legend.position = \"none\")\n",
                "ggsave(here::here(\"images\", \"myprettyplot.png\"))\n"
            ]
        },
        {
            "cell_type": "markdown",
            "metadata": {},
            "source": [
                "# Task 4\n",
                "\n",
                "Create a boxplot the secat on the y axis and the class on the x-axis AND break up the plot into different facets by grade.\n"
            ]
        },
        {
            "cell_type": "code",
            "execution_count": null,
            "metadata": {},
            "outputs": [],
            "source": [
                "dat %>%\n",
                "  dplyr::mutate(grade = factor(grade, \n",
                "                               levels = c(\"low\", \"mid\", \"high\"))) %>%\n",
                "  ggplot(aes(x = grade, y = secat, fill = grade)) +\n",
                "  geom_boxplot() +\n",
                "  facet_wrap(~class)\n"
            ]
        },
        {
            "cell_type": "markdown",
            "metadata": {},
            "source": [
                "# Task 5\n",
                "\n",
                "Calculate the mean secats for each class and grade and visualize them as a bar plot.\n"
            ]
        },
        {
            "cell_type": "code",
            "execution_count": null,
            "metadata": {},
            "outputs": [],
            "source": [
                "dat %>%\n",
                "  dplyr::group_by(class, grade) %>%\n",
                "  dplyr::summarise(Mean = mean(secat)) %>%\n",
                "  ggplot(aes(x = class, y = Mean, fill = class)) +\n",
                "  geom_bar(stat = \"identity\") +\n",
                "  theme_bw() +\n",
                "  facet_wrap(~grade, ncol = 1) +\n",
                "  theme(legend.position = \"none\") +\n",
                "  coord_cartesian(ylim = c(0,7))\n",
                "ggsave(here::here(\"images\", \"barplot.png\"), \n",
                "       width = 5, height = 10)\n"
            ]
        },
        {
            "cell_type": "markdown",
            "metadata": {},
            "source": [
                "# Task 6\n",
                "\n",
                "Calculate the mean secats for each class and grade and visualize them as a bar plot AND add labels for each bar AND break up the plot into facets by class.\n"
            ]
        },
        {
            "cell_type": "code",
            "execution_count": null,
            "metadata": {},
            "outputs": [],
            "source": [
                "dat %>%\n",
                "  dplyr::mutate(grade = factor(grade, levels = c(\"low\", \"mid\", \"high\"))) %>%\n",
                "  dplyr::group_by(class, grade) %>%\n",
                "  dplyr::summarise(Mean = mean(secat)) %>%\n",
                "  ggplot(aes(x = class, y = Mean, fill = grade))+\n",
                "  geom_bar(stat = \"identity\", position = position_dodge()) +\n",
                "  geom_text(aes(y = Mean-1, label = round(Mean, 1)), color = \"white\", size=5) + \n",
                "  facet_wrap(~ grade)\n"
            ]
        },
        {
            "cell_type": "markdown",
            "metadata": {},
            "source": [
                "# Task 7\n",
                "\n",
                "Prettify the graph you just created.\n"
            ]
        },
        {
            "cell_type": "code",
            "execution_count": null,
            "metadata": {},
            "outputs": [],
            "source": [
                " t7\n",
                "\n"
            ]
        },
        {
            "cell_type": "markdown",
            "metadata": {},
            "source": [
                "[Back to top](#descriptive_statistics)\n",
                "\n"
            ]
        }
    ],
    "metadata": {
        "anaconda-cloud": "",
        "kernelspec": {
            "display_name": "R",
            "langauge": "R",
            "name": "ir"
        },
        "language_info": {
            "codemirror_mode": "r",
            "file_extension": ".r",
            "mimetype": "text/x-r-source",
            "name": "R",
            "pygments_lexer": "r",
            "version": "3.4.1"
        }
    },
    "nbformat": 4,
    "nbformat_minor": 1
}
