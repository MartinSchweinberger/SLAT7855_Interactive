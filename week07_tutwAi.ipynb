{
    "cells": [
        {
            "cell_type": "markdown",
            "metadata": {},
            "source": [
                "# Week 07: Data Visualization\n",
                "\n",
                "\n",
                "## Introduction \n",
                "\n",
                "In this tutorial, we will learn to generate visualizations in R using the `ggplot2` package.\n",
                "\n",
                "When visualizing data with the `ggplot2` package:\n",
                "\n",
                "* We start by calling the `ggplot` function  \n",
                "* Next, we define the data that we want to visualize.  \n",
                "* Then, we provide aesthetics (`aes`) which determine the axes (and optionally colors and shapes).  \n",
                "* Next, we add layers using geometrics (`geom_`). \n",
                "* Optionally, we break the plot up into factes.\n",
                "* Optionally, we manually set colors and define axes labels.\n",
                "* Finally, and, optionally, we can modify the theme.\n",
                "\n",
                "The most basic form of a `ggplot` looks as follows: \n",
                "\n",
                "> ggplot(data, aes(x, y)) + geom_point()\n",
                "\n",
                "**Preparation and session set up**\n",
                "\n",
                "Before turning to the code below, please install the packages by running the code below this paragraph. If you have already installed the packages mentioned below, then you can skip ahead and ignore this section. To install the necessary packages, simply run the following code - it may take some time (between 1 and 5 minutes to install all of the libraries so you do not need to worry if it takes some time).\n"
            ]
        },
        {
            "cell_type": "code",
            "execution_count": null,
            "metadata": {},
            "outputs": [],
            "source": [
                "# install packages\n",
                "#install.packages(\"dplyr\")\n",
                "#install.packages(\"ggplot2\")\n"
            ]
        },
        {
            "cell_type": "markdown",
            "metadata": {},
            "source": [
                "Now that we have installed the packages, we activate them as shown below.\n",
                "\n"
            ]
        },
        {
            "cell_type": "code",
            "execution_count": null,
            "metadata": {},
            "outputs": [],
            "source": [
                "# activate packages\n",
                "library(dplyr)\n",
                "library(ggplot2)\n"
            ]
        },
        {
            "cell_type": "markdown",
            "metadata": {},
            "source": [
                "##  Tutorial Activity \n",
                "\n",
                "Go into groups - each group will visualize 1 data set.\n",
                "\n",
                "You need to visualize the following:\n",
                "\n",
                "**Task 1**: Create a boxplot the secat on the y axis and the class on the x-axis.\n",
                "\n",
                "**Task 2**: Create a boxplot the secat on the y axis and the class on the x-axis AND use different colors for each class: orange for SLAT7806, gray for SLAT7829, and lightblue for SLAT7855.\n",
                "\n",
                "**Task 3**: Prettify the graph you have just created.\n",
                "\n",
                "**Task 4**: Create a boxplot the secat on the y axis and the class on the x-axis AND break up the plot into different facets by grade.\n",
                "\n",
                "**Task 5**: Calculate the mean secats for each class and grade and visualize them as a bar plot.\n",
                "\n",
                "**Task 6**: Calculate the mean secats for each class and grade and visualize them as a bar plot AND add labels for each bar AND break up the plot into facets by class.\n",
                "\n",
                "**Task 7**: Prettify the graph you just created.\n",
                "\n",
                "\n",
                "## Load data \n",
                "\n",
                "\n",
                "Load data\n"
            ]
        },
        {
            "cell_type": "code",
            "execution_count": null,
            "metadata": {},
            "outputs": [],
            "source": [
                "# group 1\n",
                "dat <- readxl::read_excel(here::here(\"data\", \"week6g1.xlsx\")) \n",
                "# inspect\n",
                "head(dat)\n"
            ]
        },
        {
            "cell_type": "markdown",
            "metadata": {},
            "source": [
                "## Task 1\n",
                "\n",
                "Create a boxplot the secat on the y axis and the class on the x-axis.\n"
            ]
        },
        {
            "cell_type": "code",
            "execution_count": null,
            "metadata": {},
            "outputs": [],
            "source": [
                "ggplot(dat, aes(x = class, y = secat)) +\n",
                "  geom_boxplot()\n"
            ]
        },
        {
            "cell_type": "markdown",
            "metadata": {},
            "source": [
                "## Task 2\n",
                "\n",
                "Create a boxplot the secat on the y axis and the class on the x-axis AND use different colors for each class: orange for SLAT7806, gray for SLAT7829, and lightblue for SLAT7855.\n"
            ]
        },
        {
            "cell_type": "code",
            "execution_count": null,
            "metadata": {},
            "outputs": [],
            "source": [
                "ggplot(dat, aes(x = class, y = secat, fill = class)) +\n",
                "  geom_boxplot() +\n",
                "  scale_fill_manual(values = c(\"orange\", \"gray\", \"lightblue\"))\n"
            ]
        },
        {
            "cell_type": "markdown",
            "metadata": {},
            "source": [
                "## Task 3\n",
                "\n",
                "Prettify the graph you have just created.\n"
            ]
        },
        {
            "cell_type": "code",
            "execution_count": null,
            "metadata": {},
            "outputs": [],
            "source": [
                "ggplot(dat, aes(x = class, y = secat, fill = class)) +\n",
                "  geom_boxplot() +\n",
                "  scale_fill_manual(values = c(\"orange\", \"gray\", \"lightblue\")) +\n",
                "  theme_bw() +\n",
                "  labs(x = \"Course\", y = \"SeCATs (out of 7)\", title = \"Student evaluations (SeCATs) of 3 selected Applied Linguistics courses\") +\n",
                "  theme(legend.position=\"none\")\n"
            ]
        },
        {
            "cell_type": "markdown",
            "metadata": {},
            "source": [
                "## Task 4\n",
                "\n",
                "Create a boxplot the secat on the y axis and the class on the x-axis AND break up the plot into different facets by grade.\n"
            ]
        },
        {
            "cell_type": "code",
            "execution_count": null,
            "metadata": {},
            "outputs": [],
            "source": [
                "ggplot(dat, aes(x = class, y = secat, fill = class)) +\n",
                "  geom_boxplot() +\n",
                "  facet_wrap(~grade) +\n",
                "  theme(legend.position=\"none\")\n"
            ]
        },
        {
            "cell_type": "markdown",
            "metadata": {},
            "source": [
                "## Task 5\n",
                "\n",
                "Calculate the mean secats for each class and grade and visualize them as a bar plot.\n"
            ]
        },
        {
            "cell_type": "code",
            "execution_count": null,
            "metadata": {},
            "outputs": [],
            "source": [
                "dat %>%\n",
                "  dplyr::mutate(grade = factor(grade, levels = c(\"low\", \"mid\", \"high\"))) %>%\n",
                "  dplyr::group_by(class, grade) %>%\n",
                "  dplyr::summarise(Mean = mean(secat)) %>%\n",
                "  ggplot(aes(x = class, y = Mean, fill = grade))+\n",
                "  geom_bar(stat = \"identity\", position = position_dodge())\n"
            ]
        },
        {
            "cell_type": "markdown",
            "metadata": {},
            "source": [
                "## Task 6\n",
                "\n",
                "Calculate the mean secats for each class and grade and visualize them as a bar plot AND add labels for each bar AND break up the plot into facets by class.\n"
            ]
        },
        {
            "cell_type": "code",
            "execution_count": null,
            "metadata": {},
            "outputs": [],
            "source": [
                "dat %>%\n",
                "  dplyr::mutate(grade = factor(grade, levels = c(\"low\", \"mid\", \"high\"))) %>%\n",
                "  dplyr::group_by(class, grade) %>%\n",
                "  dplyr::summarise(Mean = mean(secat)) %>%\n",
                "  ggplot(aes(x = class, y = Mean, fill = grade))+\n",
                "  geom_bar(stat = \"identity\", position = position_dodge()) +\n",
                "  geom_text(aes(y = Mean-1, label = round(Mean, 1)), color = \"white\", size=5) + \n",
                "  facet_wrap(~ grade)\n"
            ]
        },
        {
            "cell_type": "markdown",
            "metadata": {},
            "source": [
                "## Task 7\n",
                "\n",
                "Prettify the graph you just created.\n"
            ]
        },
        {
            "cell_type": "code",
            "execution_count": null,
            "metadata": {},
            "outputs": [],
            "source": [
                "dat %>%\n",
                "  dplyr::mutate(grade = factor(grade, levels = c(\"low\", \"mid\", \"high\"))) %>%\n",
                "  dplyr::group_by(class, grade) %>%\n",
                "  dplyr::summarise(Mean = mean(secat)) %>%\n",
                "  ggplot(aes(x = grade, y = Mean, fill = grade))+\n",
                "  geom_bar(stat = \"identity\", position = position_dodge()) +\n",
                "  geom_text(aes(y = Mean-1, label = round(Mean, 1)), color = \"gray20\", size=4) + \n",
                "  facet_wrap(~ class) +\n",
                "  labs(x = \"Course Grade\", y = \"Mean SeCat (out of 7)\", title = \"Mean SeCAts (Student Evaluation) \\nof selected Applied Linguistics Courses by course grade (low, mid, high)\") +\n",
                "  scale_fill_manual(values = c(\"gray80\", \"gray60\", \"gray40\")) +\n",
                "  coord_cartesian(y = c(1, 7)) +\n",
                "  scale_y_continuous(labels = seq(1, 7, 1), breaks = seq(1, 7, 1)) +\n",
                "  theme_bw() +\n",
                "  theme(legend.position=\"none\") \n"
            ]
        },
        {
            "cell_type": "markdown",
            "metadata": {},
            "source": [
                "[Back to top](#descriptive_statistics)\n",
                "\n"
            ]
        }
    ],
    "metadata": {
        "anaconda-cloud": "",
        "kernelspec": {
            "display_name": "R",
            "langauge": "R",
            "name": "ir"
        },
        "language_info": {
            "codemirror_mode": "r",
            "file_extension": ".r",
            "mimetype": "text/x-r-source",
            "name": "R",
            "pygments_lexer": "r",
            "version": "3.4.1"
        }
    },
    "nbformat": 4,
    "nbformat_minor": 1
}
