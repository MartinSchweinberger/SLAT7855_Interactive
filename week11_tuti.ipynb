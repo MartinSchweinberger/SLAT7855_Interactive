{
    "cells": [
        {
            "cell_type": "markdown",
            "metadata": {},
            "source": [
                "# Week 11: (Differenet) types of Regression\n",
                "\n",
                "\n",
                "## Introduction \n",
                "\n",
                "In this tutorial, we will learn to how to perform multiple logistic regression.\n",
                "\n",
                "**Preparation and session set up**\n",
                "\n",
                "Before turning to the code below, please install the packages by running the code below this paragraph. If you have already installed the packages mentioned below, then you can skip ahead and ignore this section. To install the necessary packages, simply run the following code - it may take some time (between 1 and 5 minutes to install all of the libraries so you do not need to worry if it takes some time).\n"
            ]
        },
        {
            "cell_type": "code",
            "execution_count": null,
            "metadata": {},
            "outputs": [],
            "source": [
                "# install packages\n",
                "#install.packages(\"here\")\n",
                "#install.packages(\"dplyr\")\n",
                "#install.packages(\"ggplot2\")\n",
                "#install.packages(\"glmulti\")\n",
                "#install.packages(\"sjPlot\")\n",
                "#install.packages(\"report\")\n",
                "#install.packages(\"car\")\n",
                "#install.packages(\"rms\")\n",
                "#install.packages(\"broom\")\n"
            ]
        },
        {
            "cell_type": "markdown",
            "metadata": {},
            "source": [
                "Now that we have installed the packages, we activate them as shown below.\n",
                "\n"
            ]
        },
        {
            "cell_type": "code",
            "execution_count": null,
            "metadata": {},
            "outputs": [],
            "source": [
                "# activate packages\n",
                "library(here)\n",
                "library(dplyr)\n",
                "library(ggplot2)\n",
                "library(glmulti)\n",
                "library(sjPlot)\n",
                "library(report)\n",
                "library(car)\n",
                "library(rms)\n",
                "library(broom)\n"
            ]
        },
        {
            "cell_type": "markdown",
            "metadata": {},
            "source": [
                "##  Tutorial Activity \n",
                "\n",
                "Go into groups - each group and help each other to bring the data into the correct format, visualize the data and perform the logistic regression.\n",
                "\n",
                "## Task 1\n",
                "\n",
                "Multiple logistic regression is a better alternative for X^2^-test (because it details exactly what variable levels have a significant relationship with the dep. variable).\n",
                "\n",
                "In this example, we want to see what factors impact making plural marking errors.\n",
                "\n",
                "Load the data set `week11d1.xlsx`. Visualize the data and perform a  logistic regression to determine what factors impact if students pass the aforementioned test. \n"
            ]
        },
        {
            "cell_type": "code",
            "execution_count": null,
            "metadata": {},
            "outputs": [],
            "source": [
                "dat1 <- readxl::read_excel(here::here(\"data\", \"week11d2.xlsx\")) \n",
                "# inspect\n",
                "head(dat1)\n"
            ]
        },
        {
            "cell_type": "markdown",
            "metadata": {},
            "source": [
                "Prepare data\n",
                "\n"
            ]
        },
        {
            "cell_type": "code",
            "execution_count": null,
            "metadata": {},
            "outputs": [],
            "source": [
                "dat1 <- dat1 %>% \n",
                "  dplyr::mutate(Proficiency = factor(Proficiency),\n",
                "                Abroad = factor(Abroad),\n",
                "                University = factor(University),\n",
                "                PluralError = factor(PluralError))\n",
                "# inspect\n",
                "head(dat1)\n"
            ]
        },
        {
            "cell_type": "markdown",
            "metadata": {},
            "source": [
                "Visualize data\n",
                "\n"
            ]
        },
        {
            "cell_type": "code",
            "execution_count": null,
            "metadata": {},
            "outputs": [],
            "source": [
                "dat1  %>%\n",
                "  ggplot(aes(PluralError, fill = PluralError)) +\n",
                "  geom_bar(position = position_dodge(), stat = \"count\") + \n",
                "  facet_grid(Abroad ~ University)\n"
            ]
        },
        {
            "cell_type": "markdown",
            "metadata": {},
            "source": [
                "Set options\n",
                "\n"
            ]
        },
        {
            "cell_type": "code",
            "execution_count": null,
            "metadata": {},
            "outputs": [],
            "source": [
                "# set contrasts\n",
                "options(contrasts  = c(\"contr.treatment\", \"contr.poly\"))\n",
                "# extract distribution summaries for all potential variables\n",
                "blrdata.dist <- rms::datadist(dat1)\n",
                "# store distribution summaries for all potential variables\n",
                "options(datadist = \"blrdata.dist\")\n"
            ]
        },
        {
            "cell_type": "markdown",
            "metadata": {},
            "source": [
                "Fitting a model\n",
                "\n"
            ]
        },
        {
            "cell_type": "code",
            "execution_count": null,
            "metadata": {},
            "outputs": [],
            "source": [
                "m1 <- stats::glm(PluralError ~ Abroad,\n",
                "                 family = binomial,\n",
                "                 data = dat1)\n",
                "# inspect results\n",
                "summary(m1)\n"
            ]
        },
        {
            "cell_type": "markdown",
            "metadata": {},
            "source": [
                "Model fitting\n",
                "\n"
            ]
        },
        {
            "cell_type": "code",
            "execution_count": null,
            "metadata": {},
            "outputs": [],
            "source": [
                "mfit <- glmulti(PluralError ~ Abroad * University * Proficiency, \n",
                "                family = \"binomial\", \n",
                "                crit = bic, \n",
                "                data = dat1)\n",
                "# extract best models\n",
                "top <- weightable(mfit)\n",
                "top <- top[1:10,]\n",
                "# inspect top 10 models\n",
                "top\n"
            ]
        },
        {
            "cell_type": "markdown",
            "metadata": {},
            "source": [
                "Define final minimal adequate model\n",
                "\n"
            ]
        },
        {
            "cell_type": "code",
            "execution_count": null,
            "metadata": {},
            "outputs": [],
            "source": [
                "m1 <- glm(PluralError ~ Abroad + Proficiency, family = \"binomial\", data = dat1)\n",
                "# inspect results\n",
                "summary(m1)\n"
            ]
        },
        {
            "cell_type": "markdown",
            "metadata": {},
            "source": [
                "Diagnostics\n",
                "\n",
                "Multicolliniarity\n"
            ]
        },
        {
            "cell_type": "code",
            "execution_count": null,
            "metadata": {},
            "outputs": [],
            "source": [
                "rms::vif(m1)\n",
                "\n"
            ]
        },
        {
            "cell_type": "markdown",
            "metadata": {},
            "source": [
                "All good: the vif values are smaller than 5!\n",
                "\n",
                "Outliers?\n"
            ]
        },
        {
            "cell_type": "code",
            "execution_count": null,
            "metadata": {},
            "outputs": [],
            "source": [
                "plot(m1, which = 4, id.n = 3)\n",
                "\n"
            ]
        },
        {
            "cell_type": "markdown",
            "metadata": {},
            "source": [
                "Effects\n",
                "\n"
            ]
        },
        {
            "cell_type": "code",
            "execution_count": null,
            "metadata": {},
            "outputs": [],
            "source": [
                "sjPlot::plot_model(m1, type = \"pred\", terms = c(\"Abroad\", \"Proficiency\"))\n",
                "\n"
            ]
        },
        {
            "cell_type": "markdown",
            "metadata": {},
            "source": [
                "Summarize\n",
                "\n"
            ]
        },
        {
            "cell_type": "code",
            "execution_count": null,
            "metadata": {},
            "outputs": [],
            "source": [
                "sjPlot::tab_model(m1)\n",
                "\n"
            ]
        },
        {
            "cell_type": "markdown",
            "metadata": {},
            "source": [
                "Report\n",
                "\n"
            ]
        },
        {
            "cell_type": "code",
            "execution_count": null,
            "metadata": {},
            "outputs": [],
            "source": [
                "report::report(m1)\n",
                "\n"
            ]
        },
        {
            "cell_type": "markdown",
            "metadata": {},
            "source": [
                "## Task 2\n",
                "\n",
                "We are now having a look at a new data set. This data represents the results of a language test that students either passed or failed. As predictors we use the students' IQs, their language proficiency and how much sleep they had before taking the test.\n",
                "\n",
                "Load the data set `week11d1.xlsx`. Visualize the data and perform a full regression analysis. \n"
            ]
        },
        {
            "cell_type": "code",
            "execution_count": null,
            "metadata": {},
            "outputs": [],
            "source": [
                "dat2 <- readxl::read_excel(here::here(\"data\", \"week11d1.xlsx\"))\n",
                "# inspect\n",
                "head(dat2)\n"
            ]
        },
        {
            "cell_type": "markdown",
            "metadata": {},
            "source": [
                "Prepare data\n",
                "\n"
            ]
        },
        {
            "cell_type": "code",
            "execution_count": null,
            "metadata": {},
            "outputs": [],
            "source": [
                "dat2  <- dat2 %>%\n",
                "    dplyr::mutate_if(is.character, factor) %>%\n",
                "  dplyr::mutate(Proficiency = dplyr::case_when(Proficiency < 3 ~ \"low\", \n",
                "                                               Proficiency < 6 ~ \"mid\",\n",
                "                                               TRUE ~ \"high\")) %>%\n",
                "  dplyr::mutate(Proficiency = factor(Proficiency, levels = c(\"low\", \"mid\", \"high\"))) \n",
                "# inspect\n",
                "head(dat2)\n"
            ]
        },
        {
            "cell_type": "markdown",
            "metadata": {},
            "source": [
                "Visualize data\n",
                "\n"
            ]
        },
        {
            "cell_type": "code",
            "execution_count": null,
            "metadata": {},
            "outputs": [],
            "source": [
                "dat2  %>%\n",
                "  dplyr::mutate(Sleep = ifelse(Sleep > mean(Sleep), \"MuchSleep\", \"LittleSleep\")) %>%\n",
                "  ggplot(aes(Result, IQ, fill = Result)) +\n",
                "  geom_boxplot() +\n",
                "  facet_grid(Sleep ~ Proficiency)\n"
            ]
        },
        {
            "cell_type": "markdown",
            "metadata": {},
            "source": [
                "Fitting a model\n",
                "\n"
            ]
        },
        {
            "cell_type": "code",
            "execution_count": null,
            "metadata": {},
            "outputs": [],
            "source": [
                "m2 <- glm(Result ~ Proficiency * IQ * Sleep, \n",
                "          family = binomial,\n",
                "          data = dat2)\n",
                "# inspect results\n",
                "summary(m2)\n"
            ]
        },
        {
            "cell_type": "markdown",
            "metadata": {},
            "source": [
                "Model fitting\n",
                "\n"
            ]
        },
        {
            "cell_type": "code",
            "execution_count": null,
            "metadata": {},
            "outputs": [],
            "source": [
                "mfit <- glmulti(Result ~ Proficiency * IQ * Sleep,  data = dat2, \n",
                "                family = binomial, \n",
                "                crit = bic)\n",
                "# extract best models\n",
                "top <- weightable(mfit)\n",
                "top <- top[1:20,]\n",
                "# inspect top 20 models\n",
                "top\n"
            ]
        },
        {
            "cell_type": "markdown",
            "metadata": {},
            "source": [
                "Define final minimal adequate model\n",
                "\n"
            ]
        },
        {
            "cell_type": "code",
            "execution_count": null,
            "metadata": {},
            "outputs": [],
            "source": [
                "m2 <- glm(Result ~ Proficiency + IQ + Sleep,\n",
                "          family = binomial,\n",
                "          data = dat2)\n",
                "# inspect results\n",
                "summary(m2)\n"
            ]
        },
        {
            "cell_type": "markdown",
            "metadata": {},
            "source": [
                "Diagnostics\n",
                "\n",
                "Multicolliniarity\n"
            ]
        },
        {
            "cell_type": "code",
            "execution_count": null,
            "metadata": {},
            "outputs": [],
            "source": [
                "rms:vif()\n",
                "\n"
            ]
        },
        {
            "cell_type": "markdown",
            "metadata": {},
            "source": [
                "This is not optimal! The vif values are greater than 5!\n",
                "\n",
                "Outliers?\n"
            ]
        },
        {
            "cell_type": "code",
            "execution_count": null,
            "metadata": {},
            "outputs": [],
            "source": [
                "plot(m2, which = 4, id.n = 3)\n",
                "\n"
            ]
        },
        {
            "cell_type": "markdown",
            "metadata": {},
            "source": [
                "> In a real analysis, you should remove data points with high Cook's distance and re-run the analysis on the reduced data set. You can remove data points if you use dat2 <- dat2[-c(185, 159, 110),]\n",
                "\n",
                "\n",
                "Effects\n"
            ]
        },
        {
            "cell_type": "code",
            "execution_count": null,
            "metadata": {},
            "outputs": [],
            "source": [
                "sjPlot::plot_model(, type = \"\", terms = c(\"IQ\", \"Proficiency\", \"Sleep\"))\n",
                "\n"
            ]
        },
        {
            "cell_type": "markdown",
            "metadata": {},
            "source": [
                "Summarize\n",
                "\n"
            ]
        },
        {
            "cell_type": "code",
            "execution_count": null,
            "metadata": {},
            "outputs": [],
            "source": [
                "sjPlot:tab_model()\n",
                "\n"
            ]
        },
        {
            "cell_type": "markdown",
            "metadata": {},
            "source": [
                "Report\n",
                "\n"
            ]
        },
        {
            "cell_type": "code",
            "execution_count": null,
            "metadata": {},
            "outputs": [],
            "source": [
                "report:report(m2)\n",
                "\n"
            ]
        },
        {
            "cell_type": "markdown",
            "metadata": {},
            "source": [
                "## Outro\n",
                "\n"
            ]
        },
        {
            "cell_type": "code",
            "execution_count": null,
            "metadata": {},
            "outputs": [],
            "source": [
                "sessionInfo()\n",
                "\n"
            ]
        },
        {
            "cell_type": "markdown",
            "metadata": {},
            "source": [
                "\n",
                "\n"
            ]
        }
    ],
    "metadata": {
        "anaconda-cloud": "",
        "kernelspec": {
            "display_name": "R",
            "langauge": "R",
            "name": "ir"
        },
        "language_info": {
            "codemirror_mode": "r",
            "file_extension": ".r",
            "mimetype": "text/x-r-source",
            "name": "R",
            "pygments_lexer": "r",
            "version": "3.4.1"
        }
    },
    "nbformat": 4,
    "nbformat_minor": 1
}
